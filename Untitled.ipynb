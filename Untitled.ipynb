{
 "cells": [
  {
   "cell_type": "code",
   "execution_count": 1,
   "id": "cce6bd2a",
   "metadata": {
    "pycharm": {
     "name": "#%%\n"
    }
   },
   "outputs": [],
   "source": [
    "import os\n",
    "import uuid\n",
    "import random\n",
    "import psycopg2\n",
    "import numpy as np\n",
    "import scipy.interpolate\n",
    "import scipy.io as sio\n",
    "import matplotlib.cm as cm\n",
    "import matplotlib.tri as mtri\n",
    "import matplotlib.pyplot as plt\n",
    "\n",
    "from psycopg2 import Error\n",
    "from scipy.fft import fft, rfftfreq"
   ]
  },
  {
   "cell_type": "code",
   "execution_count": 38,
   "id": "ff9ff775",
   "metadata": {},
   "outputs": [],
   "source": [
    "alpha = 4\n",
    "model_name = '114'\n",
    "angle = 0"
   ]
  },
  {
   "cell_type": "code",
   "execution_count": 39,
   "id": "1615c7f8",
   "metadata": {},
   "outputs": [],
   "source": [
    "__connection = psycopg2.connect(user=\"postgres\",\n",
    "                                     password='2325070307',\n",
    "                                     host=\"127.0.0.1\",\n",
    "                                     port=\"5432\",\n",
    "                                     database='tpu')\n",
    "cursor = __connection.cursor()"
   ]
  },
  {
   "cell_type": "code",
   "execution_count": 40,
   "id": "9fc0b9d0",
   "metadata": {
    "pycharm": {
     "name": "#%%\n"
    }
   },
   "outputs": [],
   "source": [
    "if alpha == '4' or alpha == 4:\n",
    "    cursor.execute(\"\"\"\n",
    "                select pressure_coefficients\n",
    "                from models_alpha_4\n",
    "                where model_id = (\n",
    "                select model_id\n",
    "                from experiments_alpha_4\n",
    "                where model_name = (%s)\n",
    "                ) and angle = (%s)\n",
    "            \"\"\", (model_name, angle))\n",
    "\n",
    "elif alpha == '6' or alpha == 6:\n",
    "    cursor.execute(\"\"\"\n",
    "                select pressure_coefficients\n",
    "                from models_alpha_6\n",
    "                where model_id = (\n",
    "                select model_id\n",
    "                from experiments_alpha_6\n",
    "                where model_name = (%s)\n",
    "                ) and angle = (%s)\n",
    "            \"\"\", (model_name, angle))\n",
    "__connection.commit()\n",
    "pressure_coefficients = cursor.fetchall()[0][0]"
   ]
  },
  {
   "cell_type": "code",
   "execution_count": 41,
   "id": "2fce9304",
   "metadata": {
    "pycharm": {
     "name": "#%%\n"
    }
   },
   "outputs": [],
   "source": [
    "pr_norm = np.array(pressure_coefficients)/1000"
   ]
  },
  {
   "cell_type": "code",
   "execution_count": 50,
   "id": "56a78873",
   "metadata": {
    "pycharm": {
     "name": "#%%\n"
    }
   },
   "outputs": [],
   "source": [
    "mean_pr = np.mean(pr_norm, axis=0)"
   ]
  },
  {
   "cell_type": "code",
   "execution_count": 51,
   "id": "2975e276",
   "metadata": {
    "pycharm": {
     "name": "#%%\n"
    }
   },
   "outputs": [],
   "source": [
    "breadth, depth, height = int(model_name[0]) / 10, int(model_name[1]) / 10, int(model_name[2]) / 10\n",
    "count_sensors_on_model = len(mean_pr)\n",
    "count_sensors_on_middle = int(model_name[0]) * 5\n",
    "count_sensors_on_side = int(model_name[1]) * 5\n",
    "count_row = count_sensors_on_model // (2 * (count_sensors_on_middle + count_sensors_on_side))"
   ]
  },
  {
   "cell_type": "code",
   "execution_count": 52,
   "id": "68abefd6",
   "metadata": {
    "pycharm": {
     "name": "#%%\n"
    }
   },
   "outputs": [],
   "source": [
    "mean_pr = np.reshape(mean_pr, (count_row, -1))\n",
    "mean_pr = np.split(mean_pr, [count_sensors_on_middle,\n",
    "                             count_sensors_on_middle + count_sensors_on_side,\n",
    "                             2 * count_sensors_on_middle + count_sensors_on_side,\n",
    "                             2 * (count_sensors_on_middle + count_sensors_on_side)\n",
    "                             ], axis=1)"
   ]
  },
  {
   "cell_type": "code",
   "execution_count": 53,
   "id": "bd743088",
   "metadata": {},
   "outputs": [],
   "source": [
    "del mean_pr[4]"
   ]
  },
  {
   "cell_type": "code",
   "execution_count": 58,
   "id": "9ff31e36",
   "metadata": {},
   "outputs": [
    {
     "name": "stdout",
     "output_type": "stream",
     "text": [
      "0.0020000000000000005\n",
      "0.0005000000000000001\n"
     ]
    }
   ],
   "source": [
    "s13 = height*breadth/count_row\n",
    "s24 = depth*breadth/count_row\n",
    "print(s13)\n",
    "print(s24)"
   ]
  },
  {
   "cell_type": "code",
   "execution_count": 61,
   "id": "18dbb0af",
   "metadata": {
    "pycharm": {
     "name": "#%%\n"
    }
   },
   "outputs": [],
   "source": [
    "face1 = np.sum(mean_pr[0],axis=1)*s13\n",
    "face2 = np.sum(mean_pr[1],axis=1)*s24\n",
    "face3 = np.sum(mean_pr[2],axis=1)*s13\n",
    "face4 = np.sum(mean_pr[3],axis=1)*s24"
   ]
  },
  {
   "cell_type": "code",
   "execution_count": null,
   "id": "332aa643",
   "metadata": {
    "pycharm": {
     "name": "#%%\n"
    }
   },
   "outputs": [],
   "source": []
  },
  {
   "cell_type": "code",
   "execution_count": null,
   "id": "7e5cb855",
   "metadata": {
    "pycharm": {
     "name": "#%%\n"
    }
   },
   "outputs": [],
   "source": []
  },
  {
   "cell_type": "code",
   "execution_count": null,
   "id": "97ee2dc0",
   "metadata": {
    "pycharm": {
     "name": "#%%\n"
    }
   },
   "outputs": [],
   "source": []
  },
  {
   "cell_type": "code",
   "execution_count": null,
   "id": "7faaadc0",
   "metadata": {
    "pycharm": {
     "name": "#%%\n"
    }
   },
   "outputs": [],
   "source": []
  },
  {
   "cell_type": "code",
   "execution_count": null,
   "id": "43244f13",
   "metadata": {
    "pycharm": {
     "name": "#%%\n"
    }
   },
   "outputs": [],
   "source": []
  },
  {
   "cell_type": "code",
   "execution_count": null,
   "id": "72983442",
   "metadata": {
    "pycharm": {
     "name": "#%%\n"
    }
   },
   "outputs": [],
   "source": []
  },
  {
   "cell_type": "code",
   "execution_count": null,
   "id": "ef71094e",
   "metadata": {
    "pycharm": {
     "name": "#%%\n"
    }
   },
   "outputs": [],
   "source": []
  },
  {
   "cell_type": "code",
   "execution_count": null,
   "id": "9f353989",
   "metadata": {
    "pycharm": {
     "name": "#%%\n"
    }
   },
   "outputs": [],
   "source": []
  },
  {
   "cell_type": "code",
   "execution_count": null,
   "id": "7cd6c01e",
   "metadata": {
    "pycharm": {
     "name": "#%%\n"
    }
   },
   "outputs": [],
   "source": []
  },
  {
   "cell_type": "code",
   "execution_count": null,
   "id": "b661b7a8",
   "metadata": {
    "pycharm": {
     "name": "#%%\n"
    }
   },
   "outputs": [],
   "source": [
    "if __connection:\n",
    "    cursor.close()\n",
    "    __connection.close()"
   ]
  },
  {
   "cell_type": "code",
   "execution_count": null,
   "id": "996773ff",
   "metadata": {
    "pycharm": {
     "name": "#%%\n"
    }
   },
   "outputs": [],
   "source": []
  },
  {
   "cell_type": "code",
   "execution_count": null,
   "id": "8155ca7b",
   "metadata": {
    "pycharm": {
     "name": "#%%\n"
    }
   },
   "outputs": [],
   "source": []
  },
  {
   "cell_type": "code",
   "execution_count": null,
   "id": "d9006c95",
   "metadata": {
    "pycharm": {
     "name": "#%%\n"
    }
   },
   "outputs": [],
   "source": []
  },
  {
   "cell_type": "code",
   "execution_count": null,
   "id": "d8b27460",
   "metadata": {
    "pycharm": {
     "name": "#%%\n"
    }
   },
   "outputs": [],
   "source": []
  },
  {
   "cell_type": "code",
   "execution_count": null,
   "id": "41ad9a9a",
   "metadata": {
    "pycharm": {
     "name": "#%%\n"
    }
   },
   "outputs": [],
   "source": []
  },
  {
   "cell_type": "code",
   "execution_count": null,
   "id": "18549466",
   "metadata": {
    "pycharm": {
     "name": "#%%\n"
    }
   },
   "outputs": [],
   "source": []
  },
  {
   "cell_type": "code",
   "execution_count": null,
   "id": "d7817598",
   "metadata": {
    "pycharm": {
     "name": "#%%\n"
    }
   },
   "outputs": [],
   "source": []
  },
  {
   "cell_type": "code",
   "execution_count": null,
   "id": "3145df69",
   "metadata": {
    "pycharm": {
     "name": "#%%\n"
    }
   },
   "outputs": [],
   "source": []
  }
 ],
 "metadata": {
  "kernelspec": {
   "display_name": "Python 3 (ipykernel)",
   "language": "python",
   "name": "python3"
  },
  "language_info": {
   "codemirror_mode": {
    "name": "ipython",
    "version": 3
   },
   "file_extension": ".py",
   "mimetype": "text/x-python",
   "name": "python",
   "nbconvert_exporter": "python",
   "pygments_lexer": "ipython3",
   "version": "3.10.6"
  }
 },
 "nbformat": 4,
 "nbformat_minor": 5
}
