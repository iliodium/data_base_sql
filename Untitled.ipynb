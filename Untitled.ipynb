{
 "cells": [
  {
   "cell_type": "code",
   "execution_count": 12,
   "id": "b09f8795",
   "metadata": {},
   "outputs": [],
   "source": [
    "import numpy as np\n",
    "import scipy.io as sio\n",
    "import matplotlib.pyplot as plt"
   ]
  },
  {
   "cell_type": "code",
   "execution_count": null,
   "id": "341e8698",
   "metadata": {},
   "outputs": [],
   "source": []
  },
  {
   "cell_type": "code",
   "execution_count": 32,
   "id": "ce13f3bd",
   "metadata": {},
   "outputs": [],
   "source": [
    "pressure_coefficients = [[i for i in range(1,101)] for j in range(5)]\n",
    "count_sensors_on_model = 100\n",
    "model_name='111'\n",
    "count_sensors_on_middle = int(model_name[0]) * 5\n",
    "count_sensors_on_side = int(model_name[1]) * 5\n",
    "count_row = count_sensors_on_model // (2 * (count_sensors_on_middle + count_sensors_on_side))\n",
    "pressure_coefficients_mean = np.mean(pressure_coefficients, axis=0)\n",
    "pressure_coefficients_mean = np.reshape(pressure_coefficients_mean, (5, -1))"
   ]
  },
  {
   "cell_type": "code",
   "execution_count": 33,
   "id": "6669fd77",
   "metadata": {},
   "outputs": [
    {
     "data": {
      "text/plain": [
       "array([[  1.,   2.,   3.,   4.,   5.,   6.,   7.,   8.,   9.,  10.,  11.,\n",
       "         12.,  13.,  14.,  15.,  16.,  17.,  18.,  19.,  20.],\n",
       "       [ 21.,  22.,  23.,  24.,  25.,  26.,  27.,  28.,  29.,  30.,  31.,\n",
       "         32.,  33.,  34.,  35.,  36.,  37.,  38.,  39.,  40.],\n",
       "       [ 41.,  42.,  43.,  44.,  45.,  46.,  47.,  48.,  49.,  50.,  51.,\n",
       "         52.,  53.,  54.,  55.,  56.,  57.,  58.,  59.,  60.],\n",
       "       [ 61.,  62.,  63.,  64.,  65.,  66.,  67.,  68.,  69.,  70.,  71.,\n",
       "         72.,  73.,  74.,  75.,  76.,  77.,  78.,  79.,  80.],\n",
       "       [ 81.,  82.,  83.,  84.,  85.,  86.,  87.,  88.,  89.,  90.,  91.,\n",
       "         92.,  93.,  94.,  95.,  96.,  97.,  98.,  99., 100.]])"
      ]
     },
     "execution_count": 33,
     "metadata": {},
     "output_type": "execute_result"
    }
   ],
   "source": [
    "pressure_coefficients_mean"
   ]
  },
  {
   "cell_type": "code",
   "execution_count": 66,
   "id": "cb1811d6",
   "metadata": {},
   "outputs": [],
   "source": [
    "pressure_coefficients = [[i for i in range(1,101)] for j in range(5)]\n",
    "count_sensors_on_model = 100\n",
    "model_name='111'\n",
    "count_sensors_on_middle = int(model_name[0]) * 5\n",
    "count_sensors_on_side = int(model_name[1]) * 5\n",
    "count_row = count_sensors_on_model // (2 * (count_sensors_on_middle + count_sensors_on_side))\n",
    "pressure_coefficients_mean = np.mean(pressure_coefficients, axis=0)\n",
    "pressure_coefficients_mean = np.reshape(pressure_coefficients_mean, (5, -1))\n",
    "pressure_coefficients_mean = np.split(pressure_coefficients_mean,\n",
    "                                      [count_sensors_on_middle,\n",
    "                                       count_sensors_on_middle + count_sensors_on_side,\n",
    "                                       2 * count_sensors_on_middle + count_sensors_on_side,\n",
    "                                       2 * (count_sensors_on_middle + count_sensors_on_side)\n",
    "                                       ], axis=1)"
   ]
  },
  {
   "cell_type": "code",
   "execution_count": 67,
   "id": "60b56983",
   "metadata": {},
   "outputs": [],
   "source": [
    "del pressure_coefficients_mean[4]"
   ]
  },
  {
   "cell_type": "code",
   "execution_count": 68,
   "id": "50d546c3",
   "metadata": {},
   "outputs": [
    {
     "data": {
      "text/plain": [
       "[array([[ 1.,  2.,  3.,  4.,  5.],\n",
       "        [21., 22., 23., 24., 25.],\n",
       "        [41., 42., 43., 44., 45.],\n",
       "        [61., 62., 63., 64., 65.],\n",
       "        [81., 82., 83., 84., 85.]]),\n",
       " array([[ 6.,  7.,  8.,  9., 10.],\n",
       "        [26., 27., 28., 29., 30.],\n",
       "        [46., 47., 48., 49., 50.],\n",
       "        [66., 67., 68., 69., 70.],\n",
       "        [86., 87., 88., 89., 90.]]),\n",
       " array([[11., 12., 13., 14., 15.],\n",
       "        [31., 32., 33., 34., 35.],\n",
       "        [51., 52., 53., 54., 55.],\n",
       "        [71., 72., 73., 74., 75.],\n",
       "        [91., 92., 93., 94., 95.]]),\n",
       " array([[ 16.,  17.,  18.,  19.,  20.],\n",
       "        [ 36.,  37.,  38.,  39.,  40.],\n",
       "        [ 56.,  57.,  58.,  59.,  60.],\n",
       "        [ 76.,  77.,  78.,  79.,  80.],\n",
       "        [ 96.,  97.,  98.,  99., 100.]])]"
      ]
     },
     "execution_count": 68,
     "metadata": {},
     "output_type": "execute_result"
    }
   ],
   "source": [
    "pressure_coefficients_mean"
   ]
  },
  {
   "cell_type": "code",
   "execution_count": 50,
   "id": "1f966e0c",
   "metadata": {},
   "outputs": [
    {
     "ename": "AttributeError",
     "evalue": "'list' object has no attribute 'shape'",
     "output_type": "error",
     "traceback": [
      "\u001b[1;31m---------------------------------------------------------------------------\u001b[0m",
      "\u001b[1;31mAttributeError\u001b[0m                            Traceback (most recent call last)",
      "Cell \u001b[1;32mIn [50], line 1\u001b[0m\n\u001b[1;32m----> 1\u001b[0m \u001b[43mpressure_coefficients_mean\u001b[49m\u001b[38;5;241;43m.\u001b[39;49m\u001b[43mshape\u001b[49m()\n",
      "\u001b[1;31mAttributeError\u001b[0m: 'list' object has no attribute 'shape'"
     ]
    }
   ],
   "source": [
    "pressure_coefficients_mean.shape()"
   ]
  },
  {
   "cell_type": "code",
   "execution_count": null,
   "id": "8adc2608",
   "metadata": {},
   "outputs": [],
   "source": []
  }
 ],
 "metadata": {
  "kernelspec": {
   "display_name": "Python 3 (ipykernel)",
   "language": "python",
   "name": "python3"
  },
  "language_info": {
   "codemirror_mode": {
    "name": "ipython",
    "version": 3
   },
   "file_extension": ".py",
   "mimetype": "text/x-python",
   "name": "python",
   "nbconvert_exporter": "python",
   "pygments_lexer": "ipython3",
   "version": "3.10.6"
  }
 },
 "nbformat": 4,
 "nbformat_minor": 5
}
