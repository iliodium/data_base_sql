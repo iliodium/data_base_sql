{
 "cells": [
  {
   "cell_type": "code",
   "execution_count": 50,
   "id": "cce6bd2a",
   "metadata": {
    "pycharm": {
     "name": "#%%\n"
    }
   },
   "outputs": [],
   "source": [
    "import os\n",
    "import uuid\n",
    "import random\n",
    "import psycopg2\n",
    "import numpy as np\n",
    "import scipy.interpolate\n",
    "import scipy.io as sio\n",
    "import matplotlib.cm as cm\n",
    "import matplotlib.tri as mtri\n",
    "import matplotlib.pyplot as plt\n",
    "\n",
    "from psycopg2 import Error\n",
    "from scipy.fft import fft, rfftfreq"
   ]
  },
  {
   "cell_type": "code",
   "execution_count": 57,
   "id": "ff9ff775",
   "metadata": {},
   "outputs": [],
   "source": [
    "alpha = 4\n",
    "model_name = '114'\n",
    "angle = 0"
   ]
  },
  {
   "cell_type": "code",
   "execution_count": 58,
   "id": "1615c7f8",
   "metadata": {},
   "outputs": [],
   "source": [
    "__connection = psycopg2.connect(user=\"postgres\",\n",
    "                                     password='08101430',\n",
    "                                     host=\"127.0.0.1\",\n",
    "                                     port=\"5432\",\n",
    "                                     database='tpu')\n",
    "cursor = __connection.cursor()"
   ]
  },
  {
   "cell_type": "code",
   "execution_count": 59,
   "id": "9fc0b9d0",
   "metadata": {
    "pycharm": {
     "name": "#%%\n"
    }
   },
   "outputs": [],
   "source": [
    "if alpha == '4' or alpha == 4:\n",
    "    cursor.execute(\"\"\"\n",
    "                select pressure_coefficients\n",
    "                from models_alpha_4\n",
    "                where model_id = (\n",
    "                select model_id\n",
    "                from experiments_alpha_4\n",
    "                where model_name = (%s)\n",
    "                ) and angle = (%s)\n",
    "            \"\"\", (model_name, angle))\n",
    "\n",
    "elif alpha == '6' or alpha == 6:\n",
    "    cursor.execute(\"\"\"\n",
    "                select pressure_coefficients\n",
    "                from models_alpha_6\n",
    "                where model_id = (\n",
    "                select model_id\n",
    "                from experiments_alpha_6\n",
    "                where model_name = (%s)\n",
    "                ) and angle = (%s)\n",
    "            \"\"\", (model_name, angle))\n",
    "__connection.commit()\n",
    "pressure_coefficients = cursor.fetchall()[0][0]"
   ]
  },
  {
   "cell_type": "code",
   "execution_count": 60,
   "id": "2fce9304",
   "metadata": {
    "pycharm": {
     "name": "#%%\n"
    }
   },
   "outputs": [],
   "source": [
    "pr_norm = np.array(pressure_coefficients)/1000"
   ]
  },
  {
   "cell_type": "code",
   "execution_count": 61,
   "id": "56a78873",
   "metadata": {
    "pycharm": {
     "name": "#%%\n"
    }
   },
   "outputs": [],
   "source": [
    "mean_pr = np.mean(pr_norm, axis=0)"
   ]
  },
  {
   "cell_type": "code",
   "execution_count": 62,
   "id": "2975e276",
   "metadata": {
    "pycharm": {
     "name": "#%%\n"
    }
   },
   "outputs": [],
   "source": [
    "breadth, depth, height = int(model_name[0]) / 10, int(model_name[1]) / 10, int(model_name[2]) / 10\n",
    "count_sensors_on_model = len(mean_pr)\n",
    "count_sensors_on_middle = int(model_name[0]) * 5\n",
    "count_sensors_on_side = int(model_name[1]) * 5\n",
    "count_row = count_sensors_on_model // (2 * (count_sensors_on_middle + count_sensors_on_side))"
   ]
  },
  {
   "cell_type": "code",
   "execution_count": 63,
   "id": "68abefd6",
   "metadata": {
    "pycharm": {
     "name": "#%%\n"
    }
   },
   "outputs": [],
   "source": [
    "mean_pr = np.reshape(mean_pr, (count_row, -1))\n",
    "mean_pr = np.split(mean_pr, [count_sensors_on_middle,\n",
    "                             count_sensors_on_middle + count_sensors_on_side,\n",
    "                             2 * count_sensors_on_middle + count_sensors_on_side,\n",
    "                             2 * (count_sensors_on_middle + count_sensors_on_side)\n",
    "                             ], axis=1)"
   ]
  },
  {
   "cell_type": "code",
   "execution_count": 64,
   "id": "bd743088",
   "metadata": {},
   "outputs": [],
   "source": [
    "del mean_pr[4]"
   ]
  },
  {
   "cell_type": "code",
   "execution_count": 65,
   "id": "9ff31e36",
   "metadata": {},
   "outputs": [
    {
     "name": "stdout",
     "output_type": "stream",
     "text": [
      "0.0020000000000000005\n",
      "0.0005000000000000001\n"
     ]
    }
   ],
   "source": [
    "s13 = height*breadth/count_row\n",
    "s24 = depth*breadth/count_row\n",
    "print(s13)\n",
    "print(s24)"
   ]
  },
  {
   "cell_type": "code",
   "execution_count": 14,
   "id": "18dbb0af",
   "metadata": {
    "pycharm": {
     "name": "#%%\n"
    }
   },
   "outputs": [],
   "source": [
    "face1 = np.sum(mean_pr[0],axis=1)*s13\n",
    "face2 = np.sum(mean_pr[1],axis=1)*s24\n",
    "face3 = np.sum(mean_pr[2],axis=1)*s13\n",
    "face4 = np.sum(mean_pr[3],axis=1)*s24"
   ]
  },
  {
   "cell_type": "code",
   "execution_count": 15,
   "id": "332aa643",
   "metadata": {
    "pycharm": {
     "name": "#%%\n"
    }
   },
   "outputs": [
    {
     "data": {
      "text/plain": [
       "array([0.00548486, 0.00719583, 0.00736016, 0.00733839, 0.00721186,\n",
       "       0.00694647, 0.00668374, 0.00644801, 0.0062151 , 0.00584963,\n",
       "       0.00558115, 0.00528206, 0.00492247, 0.00459124, 0.00423926,\n",
       "       0.00387067, 0.00348347, 0.00308108, 0.00282481, 0.00330299])"
      ]
     },
     "execution_count": 15,
     "metadata": {},
     "output_type": "execute_result"
    }
   ],
   "source": [
    "face1"
   ]
  },
  {
   "cell_type": "code",
   "execution_count": null,
   "id": "7e5cb855",
   "metadata": {
    "pycharm": {
     "name": "#%%\n"
    }
   },
   "outputs": [],
   "source": []
  },
  {
   "cell_type": "code",
   "execution_count": null,
   "id": "97ee2dc0",
   "metadata": {
    "pycharm": {
     "name": "#%%\n"
    }
   },
   "outputs": [],
   "source": []
  },
  {
   "cell_type": "code",
   "execution_count": null,
   "id": "7faaadc0",
   "metadata": {
    "pycharm": {
     "name": "#%%\n"
    }
   },
   "outputs": [],
   "source": []
  },
  {
   "cell_type": "code",
   "execution_count": null,
   "id": "43244f13",
   "metadata": {
    "pycharm": {
     "name": "#%%\n"
    }
   },
   "outputs": [],
   "source": []
  },
  {
   "cell_type": "code",
   "execution_count": null,
   "id": "72983442",
   "metadata": {
    "pycharm": {
     "name": "#%%\n"
    }
   },
   "outputs": [],
   "source": []
  },
  {
   "cell_type": "code",
   "execution_count": null,
   "id": "ef71094e",
   "metadata": {
    "pycharm": {
     "name": "#%%\n"
    }
   },
   "outputs": [],
   "source": []
  },
  {
   "cell_type": "code",
   "execution_count": null,
   "id": "9f353989",
   "metadata": {
    "pycharm": {
     "name": "#%%\n"
    }
   },
   "outputs": [],
   "source": []
  },
  {
   "cell_type": "code",
   "execution_count": null,
   "id": "7cd6c01e",
   "metadata": {
    "pycharm": {
     "name": "#%%\n"
    }
   },
   "outputs": [],
   "source": []
  },
  {
   "cell_type": "code",
   "execution_count": null,
   "id": "b661b7a8",
   "metadata": {
    "pycharm": {
     "name": "#%%\n"
    }
   },
   "outputs": [],
   "source": [
    "if __connection:\n",
    "    cursor.close()\n",
    "    __connection.close()"
   ]
  },
  {
   "cell_type": "code",
   "execution_count": null,
   "id": "996773ff",
   "metadata": {
    "pycharm": {
     "name": "#%%\n"
    }
   },
   "outputs": [],
   "source": []
  },
  {
   "cell_type": "code",
   "execution_count": null,
   "id": "8155ca7b",
   "metadata": {
    "pycharm": {
     "name": "#%%\n"
    }
   },
   "outputs": [],
   "source": []
  },
  {
   "cell_type": "code",
   "execution_count": 36,
   "id": "d9006c95",
   "metadata": {
    "pycharm": {
     "name": "#%%\n"
    }
   },
   "outputs": [],
   "source": [
    "f=open('Uz_a_0_25.txt')"
   ]
  },
  {
   "cell_type": "code",
   "execution_count": 37,
   "id": "d8b27460",
   "metadata": {
    "pycharm": {
     "name": "#%%\n"
    }
   },
   "outputs": [],
   "source": [
    "uz = f.readlines()"
   ]
  },
  {
   "cell_type": "code",
   "execution_count": 44,
   "id": "78fe3f84",
   "metadata": {},
   "outputs": [],
   "source": [
    "uzz= [ ]\n"
   ]
  },
  {
   "cell_type": "code",
   "execution_count": 48,
   "id": "41ad9a9a",
   "metadata": {
    "pycharm": {
     "name": "#%%\n"
    }
   },
   "outputs": [],
   "source": [
    "x = []\n",
    "y = []\n",
    "for i in uz:\n",
    "    a = i.split('\\t')\n",
    "    x.append(float(a[1]))\n",
    "    y.append(float(a[0]))    "
   ]
  },
  {
   "cell_type": "code",
   "execution_count": 53,
   "id": "c4766e1e",
   "metadata": {},
   "outputs": [],
   "source": [
    "y = np.array(y) * 11.0005\n"
   ]
  },
  {
   "cell_type": "code",
   "execution_count": 1,
   "id": "18549466",
   "metadata": {
    "pycharm": {
     "name": "#%%\n"
    }
   },
   "outputs": [
    {
     "ename": "NameError",
     "evalue": "name 'plt' is not defined",
     "output_type": "error",
     "traceback": [
      "\u001b[1;31m---------------------------------------------------------------------------\u001b[0m",
      "\u001b[1;31mNameError\u001b[0m                                 Traceback (most recent call last)",
      "Cell \u001b[1;32mIn [1], line 1\u001b[0m\n\u001b[1;32m----> 1\u001b[0m \u001b[43mplt\u001b[49m\u001b[38;5;241m.\u001b[39mplot(y[:],x[:])\n\u001b[0;32m      2\u001b[0m plt\u001b[38;5;241m.\u001b[39mgrid()\n\u001b[0;32m      3\u001b[0m plt\u001b[38;5;241m.\u001b[39mshow()\n",
      "\u001b[1;31mNameError\u001b[0m: name 'plt' is not defined"
     ]
    }
   ],
   "source": [
    "plt.plot(y[:],x[:])\n",
    "plt.grid()\n",
    "plt.show()"
   ]
  },
  {
   "cell_type": "code",
   "execution_count": 66,
   "id": "d7817598",
   "metadata": {
    "pycharm": {
     "name": "#%%\n"
    }
   },
   "outputs": [
    {
     "data": {
      "text/plain": [
       "array([[0.49514279, 0.58767877, 0.58875125, 0.57776251, 0.49309714],\n",
       "       [0.58997876, 0.80544998, 0.83325632, 0.79377042, 0.57545947],\n",
       "       [0.59005246, 0.8318765 , 0.86710117, 0.82315332, 0.5678974 ],\n",
       "       [0.56471402, 0.83586761, 0.87358835, 0.82772363, 0.56730331],\n",
       "       [0.55790305, 0.84391678, 0.85951556, 0.80333679, 0.54125568],\n",
       "       [0.54197833, 0.7914653 , 0.84838058, 0.78204312, 0.50936615],\n",
       "       [0.50574692, 0.77650815, 0.81531201, 0.75707083, 0.48723224],\n",
       "       [0.48609073, 0.74589285, 0.78888113, 0.73797321, 0.46516623],\n",
       "       [0.46760489, 0.714297  , 0.75130362, 0.71134976, 0.46299362],\n",
       "       [0.42605515, 0.68120279, 0.72381271, 0.67545657, 0.41828879],\n",
       "       [0.41475293, 0.64847668, 0.69328214, 0.64354541, 0.3905177 ],\n",
       "       [0.39252777, 0.61932407, 0.65620422, 0.60776315, 0.36521182],\n",
       "       [0.35621304, 0.5782272 , 0.61677209, 0.57088272, 0.33913895],\n",
       "       [0.32751331, 0.54480243, 0.57760263, 0.53561633, 0.31008371],\n",
       "       [0.29421515, 0.50492661, 0.54158044, 0.4953848 , 0.2835217 ],\n",
       "       [0.26780115, 0.46660025, 0.49769104, 0.45834555, 0.24489575],\n",
       "       [0.23578589, 0.42561664, 0.45218866, 0.41463232, 0.21351324],\n",
       "       [0.18991544, 0.38252515, 0.41591284, 0.37406015, 0.17812698],\n",
       "       [0.15790253, 0.35869156, 0.40266211, 0.35211447, 0.14103461],\n",
       "       [0.17650522, 0.42268076, 0.47039954, 0.41690485, 0.16500635]])"
      ]
     },
     "execution_count": 66,
     "metadata": {},
     "output_type": "execute_result"
    }
   ],
   "source": [
    "mean_pr[0]"
   ]
  },
  {
   "cell_type": "code",
   "execution_count": null,
   "id": "790868de",
   "metadata": {},
   "outputs": [],
   "source": []
  }
 ],
 "metadata": {
  "kernelspec": {
   "display_name": "Python 3 (ipykernel)",
   "language": "python",
   "name": "python3"
  },
  "language_info": {
   "codemirror_mode": {
    "name": "ipython",
    "version": 3
   },
   "file_extension": ".py",
   "mimetype": "text/x-python",
   "name": "python",
   "nbconvert_exporter": "python",
   "pygments_lexer": "ipython3",
   "version": "3.10.6"
  }
 },
 "nbformat": 4,
 "nbformat_minor": 5
}
