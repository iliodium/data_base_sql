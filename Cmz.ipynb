{
 "cells": [
  {
   "cell_type": "code",
   "execution_count": 1,
   "id": "c006445d",
   "metadata": {},
   "outputs": [],
   "source": [
    "import os\n",
    "import uuid\n",
    "import random\n",
    "import psycopg2\n",
    "import numpy as np\n",
    "import scipy.interpolate\n",
    "import scipy.io as sio\n",
    "import matplotlib.cm as cm\n",
    "import matplotlib.tri as mtri\n",
    "import matplotlib.pyplot as plt\n",
    "\n",
    "from psycopg2 import Error\n",
    "from scipy.fft import fft, rfftfreq"
   ]
  },
  {
   "cell_type": "code",
   "execution_count": 2,
   "id": "10ee4be0",
   "metadata": {},
   "outputs": [],
   "source": [
    "__connection = psycopg2.connect(user=\"postgres\",\n",
    "                                     password='2325070307',\n",
    "                                     host=\"127.0.0.1\",\n",
    "                                     port=\"5432\",\n",
    "                                     database='tpu')\n",
    "cursor = __connection.cursor()"
   ]
  },
  {
   "cell_type": "code",
   "execution_count": 42,
   "id": "2b09e18e",
   "metadata": {},
   "outputs": [],
   "source": [
    "alpha = 4\n",
    "model_name = '111'\n",
    "angle = 0\n",
    "if alpha == '4' or alpha == 4:\n",
    "    cursor.execute(\"\"\"\n",
    "                select pressure_coefficients\n",
    "                from models_alpha_4\n",
    "                where model_id = (\n",
    "                select model_id\n",
    "                from experiments_alpha_4\n",
    "                where model_name = (%s)\n",
    "                ) and angle = (%s)\n",
    "            \"\"\", (model_name, angle))\n",
    "\n",
    "elif alpha == '6' or alpha == 6:\n",
    "    cursor.execute(\"\"\"\n",
    "                select pressure_coefficients\n",
    "                from models_alpha_6\n",
    "                where model_id = (\n",
    "                select model_id\n",
    "                from experiments_alpha_6\n",
    "                where model_name = (%s)\n",
    "                ) and angle = (%s)\n",
    "            \"\"\", (model_name, angle))\n",
    "__connection.commit()\n",
    "pressure_coefficients = cursor.fetchall()[0][0]"
   ]
  },
  {
   "cell_type": "code",
   "execution_count": null,
   "id": "775713f0",
   "metadata": {},
   "outputs": [],
   "source": []
  },
  {
   "cell_type": "code",
   "execution_count": null,
   "id": "d7402b20",
   "metadata": {},
   "outputs": [],
   "source": []
  },
  {
   "cell_type": "code",
   "execution_count": null,
   "id": "afcef462",
   "metadata": {},
   "outputs": [],
   "source": []
  },
  {
   "cell_type": "code",
   "execution_count": null,
   "id": "8d1816b3",
   "metadata": {},
   "outputs": [],
   "source": []
  },
  {
   "cell_type": "code",
   "execution_count": 251,
   "id": "4601a3e4",
   "metadata": {},
   "outputs": [],
   "source": [
    "pr_norm = np.array(pressure_coefficients)/1000"
   ]
  },
  {
   "cell_type": "code",
   "execution_count": 41,
   "id": "2fd6a176",
   "metadata": {},
   "outputs": [],
   "source": [
    "if alpha == '4' or alpha == 4:\n",
    "    cursor.execute(\"\"\"\n",
    "                select x_coordinates, z_coordinates\n",
    "                from experiments_alpha_4\n",
    "                where model_name = (%s)\n",
    "            \"\"\", (model_name,))\n",
    "\n",
    "elif alpha == '6' or alpha == 6:\n",
    "    cursor.execute(\"\"\"\n",
    "                select x_coordinates, z_coordinates\n",
    "                from experiments_alpha_6\n",
    "                where model_name = (%s)\n",
    "            \"\"\", (model_name,))\n",
    "__connection.commit()\n",
    "x, z = cursor.fetchall()[0]"
   ]
  },
  {
   "cell_type": "code",
   "execution_count": 45,
   "id": "9cf73556",
   "metadata": {},
   "outputs": [
    {
     "ename": "NameError",
     "evalue": "name 'pr_norm' is not defined",
     "output_type": "error",
     "traceback": [
      "\u001b[1;31m---------------------------------------------------------------------------\u001b[0m",
      "\u001b[1;31mNameError\u001b[0m                                 Traceback (most recent call last)",
      "Cell \u001b[1;32mIn [45], line 2\u001b[0m\n\u001b[0;32m      1\u001b[0m breadth, depth, height \u001b[38;5;241m=\u001b[39m \u001b[38;5;28mint\u001b[39m(model_name[\u001b[38;5;241m0\u001b[39m]) \u001b[38;5;241m/\u001b[39m \u001b[38;5;241m10\u001b[39m, \u001b[38;5;28mint\u001b[39m(model_name[\u001b[38;5;241m1\u001b[39m]) \u001b[38;5;241m/\u001b[39m \u001b[38;5;241m10\u001b[39m, \u001b[38;5;28mint\u001b[39m(model_name[\u001b[38;5;241m2\u001b[39m]) \u001b[38;5;241m/\u001b[39m \u001b[38;5;241m10\u001b[39m\n\u001b[1;32m----> 2\u001b[0m count_sensors_on_model \u001b[38;5;241m=\u001b[39m \u001b[38;5;28mlen\u001b[39m(\u001b[43mpr_norm\u001b[49m[\u001b[38;5;241m0\u001b[39m])\n\u001b[0;32m      3\u001b[0m count_sensors_on_middle \u001b[38;5;241m=\u001b[39m \u001b[38;5;28mint\u001b[39m(model_name[\u001b[38;5;241m0\u001b[39m]) \u001b[38;5;241m*\u001b[39m \u001b[38;5;241m5\u001b[39m\n\u001b[0;32m      4\u001b[0m count_sensors_on_side \u001b[38;5;241m=\u001b[39m \u001b[38;5;28mint\u001b[39m(model_name[\u001b[38;5;241m1\u001b[39m]) \u001b[38;5;241m*\u001b[39m \u001b[38;5;241m5\u001b[39m\n",
      "\u001b[1;31mNameError\u001b[0m: name 'pr_norm' is not defined"
     ]
    }
   ],
   "source": [
    "breadth, depth, height = int(model_name[0]) / 10, int(model_name[1]) / 10, int(model_name[2]) / 10\n",
    "count_sensors_on_model = len(pr_norm[0])\n",
    "count_sensors_on_middle = int(model_name[0]) * 5\n",
    "count_sensors_on_side = int(model_name[1]) * 5\n",
    "count_row = count_sensors_on_model // (2 * (count_sensors_on_middle + count_sensors_on_side))\n",
    "v2 = breadth\n",
    "v3 = breadth + depth\n",
    "v4 = 2 * breadth + depth\n",
    "mid13_x = breadth / 2\n",
    "mid24_x = depth / 2\n",
    "mid13_x = breadth / 2\n",
    "mid_z = height / 2"
   ]
  },
  {
   "cell_type": "code",
   "execution_count": 44,
   "id": "134ffce4",
   "metadata": {},
   "outputs": [],
   "source": [
    "pr_coeff = np.array(pressure_coefficients)/1000\n",
    "breadth, depth, height = int(model_name[0]) / 10, int(model_name[1]) / 10, int(model_name[2]) / 10\n",
    "v2 = breadth\n",
    "v3 = breadth + depth\n",
    "v4 = 2 * breadth + depth\n",
    "mid13_x = breadth / 2\n",
    "mid24_x = depth / 2\n",
    "count_sensors_on_model = len(pr_coeff[0])\n",
    "count_sensors_on_middle = int(model_name[0]) * 5\n",
    "count_sensors_on_side = int(model_name[1]) * 5\n",
    "count_row = count_sensors_on_model // (2 * (count_sensors_on_middle + count_sensors_on_side))"
   ]
  },
  {
   "cell_type": "code",
   "execution_count": 46,
   "id": "2e5f37ad",
   "metadata": {},
   "outputs": [],
   "source": [
    "\n",
    "x = np.reshape(x, (count_row, -1))\n",
    "x = np.split(x, [count_sensors_on_middle,\n",
    "                 count_sensors_on_middle + count_sensors_on_side,\n",
    "                 2 * count_sensors_on_middle + count_sensors_on_side,\n",
    "                 2 * (count_sensors_on_middle + count_sensors_on_side)\n",
    "                 ], axis=1)\n",
    "\n",
    "del x[4]\n",
    "x[1] -= v2\n",
    "x[2] -= v3\n",
    "x[3] -= v4\n",
    "mx = np.array([\n",
    "    abs(x[0] - mid13_x),\n",
    "    abs(x[1] - mid24_x),\n",
    "    abs(x[2] - mid13_x),\n",
    "    abs(x[3] - mid24_x),\n",
    "])"
   ]
  },
  {
   "cell_type": "code",
   "execution_count": 52,
   "id": "e0c9fa55",
   "metadata": {},
   "outputs": [],
   "source": [
    "sum_cmz = []\n",
    "\n",
    "coeffs_norm_13 = [1 if i <= count_sensors_on_middle//2  else -1 for i in range(count_sensors_on_middle)]\n",
    "coeffs_norm_24 = [1 if i <= count_sensors_on_side//2  else -1 for i in range(count_sensors_on_side)]\n",
    "for coeff in pr_coeff:\n",
    "\n",
    "    coeff = np.reshape(coeff, (count_row, -1))\n",
    "    coeff = np.split(coeff, [count_sensors_on_middle,\n",
    "                             count_sensors_on_middle + count_sensors_on_side,\n",
    "                             2 * count_sensors_on_middle + count_sensors_on_side,\n",
    "                             2 * (count_sensors_on_middle + count_sensors_on_side)\n",
    "                             ], axis=1)\n",
    "    del coeff[4]\n",
    "    for i in range(4):\n",
    "        if i in [0,2]:\n",
    "            coeff[i] *=coeffs_norm_13\n",
    "        else:\n",
    "            coeff[i] *=coeffs_norm_24\n",
    "    cmz = mx*coeff\n",
    "    sum_cmz.append(np.sum(cmz))"
   ]
  },
  {
   "cell_type": "code",
   "execution_count": null,
   "id": "8f9e4320",
   "metadata": {},
   "outputs": [],
   "source": []
  },
  {
   "cell_type": "code",
   "execution_count": 53,
   "id": "68142d2a",
   "metadata": {},
   "outputs": [
    {
     "data": {
      "image/png": "[encoded data removed]",
      "text/plain": [
       "<Figure size 1600x900 with 1 Axes>"
      ]
     },
     "metadata": {},
     "output_type": "display_data"
    }
   ],
   "source": [
    "plt.figure(figsize=(16,9))\n",
    "plt.plot(list(range(1,32769)),sum_cmz,label='CMz')\n",
    "plt.legend()\n",
    "plt.grid()\n",
    "plt.show()"
   ]
  },
  {
   "cell_type": "code",
   "execution_count": null,
   "id": "11151370",
   "metadata": {},
   "outputs": [],
   "source": []
  },
  {
   "cell_type": "code",
   "execution_count": null,
   "id": "47356059",
   "metadata": {},
   "outputs": [],
   "source": []
  },
  {
   "cell_type": "code",
   "execution_count": null,
   "id": "c6e30b21",
   "metadata": {},
   "outputs": [],
   "source": []
  },
  {
   "cell_type": "code",
   "execution_count": null,
   "id": "6e15f5e8",
   "metadata": {},
   "outputs": [],
   "source": []
  },
  {
   "cell_type": "code",
   "execution_count": null,
   "id": "b60f6319",
   "metadata": {},
   "outputs": [],
   "source": []
  },
  {
   "cell_type": "code",
   "execution_count": null,
   "id": "793ad575",
   "metadata": {},
   "outputs": [],
   "source": []
  },
  {
   "cell_type": "code",
   "execution_count": null,
   "id": "700b6e0c",
   "metadata": {},
   "outputs": [],
   "source": []
  },
  {
   "cell_type": "code",
   "execution_count": null,
   "id": "4ff95a10",
   "metadata": {},
   "outputs": [],
   "source": []
  },
  {
   "cell_type": "code",
   "execution_count": null,
   "id": "6f266797",
   "metadata": {},
   "outputs": [],
   "source": []
  },
  {
   "cell_type": "code",
   "execution_count": null,
   "id": "c980a1fc",
   "metadata": {},
   "outputs": [],
   "source": []
  },
  {
   "cell_type": "code",
   "execution_count": null,
   "id": "1519129b",
   "metadata": {},
   "outputs": [],
   "source": []
  },
  {
   "cell_type": "code",
   "execution_count": 254,
   "id": "67b2b015",
   "metadata": {},
   "outputs": [
    {
     "data": {
      "text/plain": [
       "[array([[0.63784979, 0.75246725, 0.75709412, 0.75326111, 0.64909683],\n",
       "        [0.68849747, 0.92879584, 0.9605867 , 0.92891296, 0.68795883],\n",
       "        [0.62320154, 0.88008801, 0.92363824, 0.88091302, 0.62181122],\n",
       "        [0.48330771, 0.76740866, 0.81601962, 0.77286655, 0.50327991],\n",
       "        [0.37576022, 0.75821518, 0.79266379, 0.7288855 , 0.37109271]]),\n",
       " array([[-1.32753845, -1.31243759, -1.06125641, -0.7628273 , -0.55787033],\n",
       "        [-1.22580017, -1.29017084, -1.11184354, -0.82173282, -0.61292117],\n",
       "        [-1.15426184, -1.21993256, -1.09408136, -0.83791516, -0.65477634],\n",
       "        [-1.15460892, -1.19927493, -1.05468448, -0.81595862, -0.64603415],\n",
       "        [-1.17326157, -1.15450433, -0.96124301, -0.72660229, -0.55918463]]),\n",
       " array([[-0.49776068, -0.48607898, -0.48338226, -0.48961966, -0.50216214],\n",
       "        [-0.51166525, -0.49957541, -0.494638  , -0.50283713, -0.51391318],\n",
       "        [-0.51027325, -0.487599  , -0.47380435, -0.48406006, -0.50871219],\n",
       "        [-0.49485352, -0.46196545, -0.44472018, -0.4627984 , -0.49470084],\n",
       "        [-0.4696825 , -0.42873779, -0.4002973 , -0.42375806, -0.46711902]]),\n",
       " array([[-0.56174094, -0.76796603, -1.06115631, -1.31227539, -1.31928769],\n",
       "        [-0.61986914, -0.8186192 , -1.10723227, -1.28450333, -1.2206803 ],\n",
       "        [-0.65693488, -0.83121024, -1.07959601, -1.22399139, -1.14512607],\n",
       "        [-0.65590094, -0.80804675, -1.04191565, -1.20040982, -1.16124808],\n",
       "        [-0.58432159, -0.72442081, -0.93382108, -1.13720856, -1.17959082]])]"
      ]
     },
     "execution_count": 254,
     "metadata": {},
     "output_type": "execute_result"
    }
   ],
   "source": [
    "mean_pr = np.mean(pr_norm,axis=0)\n",
    "mean_pr = np.reshape(mean_pr, (count_row, -1))\n",
    "mean_pr = np.split(mean_pr, [count_sensors_on_middle,\n",
    "                             count_sensors_on_middle + count_sensors_on_side,\n",
    "                             2 * count_sensors_on_middle + count_sensors_on_side,\n",
    "                             2 * (count_sensors_on_middle + count_sensors_on_side)\n",
    "                             ], axis=1)\n",
    "del mean_pr[4]\n",
    "mean_pr"
   ]
  },
  {
   "cell_type": "code",
   "execution_count": null,
   "id": "6ffb21ae",
   "metadata": {},
   "outputs": [],
   "source": []
  },
  {
   "cell_type": "code",
   "execution_count": null,
   "id": "ba0b3a94",
   "metadata": {},
   "outputs": [],
   "source": []
  },
  {
   "cell_type": "code",
   "execution_count": null,
   "id": "d3f1d5d0",
   "metadata": {},
   "outputs": [],
   "source": []
  },
  {
   "cell_type": "code",
   "execution_count": null,
   "id": "40ce3ff5",
   "metadata": {},
   "outputs": [],
   "source": []
  },
  {
   "cell_type": "code",
   "execution_count": null,
   "id": "512b3a51",
   "metadata": {},
   "outputs": [],
   "source": []
  },
  {
   "cell_type": "code",
   "execution_count": null,
   "id": "74976c18",
   "metadata": {},
   "outputs": [],
   "source": []
  },
  {
   "cell_type": "code",
   "execution_count": null,
   "id": "b721e712",
   "metadata": {},
   "outputs": [],
   "source": []
  },
  {
   "cell_type": "code",
   "execution_count": null,
   "id": "fecfa848",
   "metadata": {},
   "outputs": [],
   "source": []
  },
  {
   "cell_type": "code",
   "execution_count": null,
   "id": "99861d42",
   "metadata": {},
   "outputs": [],
   "source": []
  },
  {
   "cell_type": "code",
   "execution_count": null,
   "id": "5f8ac428",
   "metadata": {},
   "outputs": [],
   "source": []
  },
  {
   "cell_type": "code",
   "execution_count": null,
   "id": "2da056fb",
   "metadata": {},
   "outputs": [],
   "source": []
  },
  {
   "cell_type": "code",
   "execution_count": null,
   "id": "4cfd2c0c",
   "metadata": {},
   "outputs": [],
   "source": []
  },
  {
   "cell_type": "code",
   "execution_count": null,
   "id": "04313967",
   "metadata": {},
   "outputs": [],
   "source": []
  },
  {
   "cell_type": "code",
   "execution_count": null,
   "id": "25b57458",
   "metadata": {},
   "outputs": [],
   "source": []
  },
  {
   "cell_type": "code",
   "execution_count": null,
   "id": "8f8be2e2",
   "metadata": {},
   "outputs": [],
   "source": []
  },
  {
   "cell_type": "code",
   "execution_count": null,
   "id": "f1934c2a",
   "metadata": {},
   "outputs": [],
   "source": []
  },
  {
   "cell_type": "code",
   "execution_count": null,
   "id": "e2774c0e",
   "metadata": {},
   "outputs": [],
   "source": []
  },
  {
   "cell_type": "code",
   "execution_count": null,
   "id": "dd95a98c",
   "metadata": {},
   "outputs": [],
   "source": []
  },
  {
   "cell_type": "code",
   "execution_count": null,
   "id": "4d402a31",
   "metadata": {},
   "outputs": [],
   "source": []
  },
  {
   "cell_type": "code",
   "execution_count": null,
   "id": "33894eb8",
   "metadata": {},
   "outputs": [],
   "source": []
  },
  {
   "cell_type": "code",
   "execution_count": 255,
   "id": "d13da337",
   "metadata": {},
   "outputs": [],
   "source": [
    "x = np.reshape(x, (count_row, -1))\n",
    "x = np.split(x, [count_sensors_on_middle,\n",
    "                 count_sensors_on_middle + count_sensors_on_side,\n",
    "                 2 * count_sensors_on_middle + count_sensors_on_side,\n",
    "                 2 * (count_sensors_on_middle + count_sensors_on_side)\n",
    "                 ], axis=1)\n",
    "\n",
    "z = np.reshape(z, (count_row, -1))\n",
    "z = np.split(z, [count_sensors_on_middle,\n",
    "                 count_sensors_on_middle + count_sensors_on_side,\n",
    "                 2 * count_sensors_on_middle + count_sensors_on_side,\n",
    "                 2 * (count_sensors_on_middle + count_sensors_on_side)\n",
    "                 ], axis=1)\n",
    "\n",
    "del x[4]\n",
    "del z[4]\n",
    "x[1] -= v2\n",
    "x[2] -= v3\n",
    "x[3] -= v4"
   ]
  },
  {
   "cell_type": "code",
   "execution_count": 183,
   "id": "07ea3644",
   "metadata": {},
   "outputs": [
    {
     "data": {
      "text/plain": [
       "[array([[0.01, 0.03, 0.05, 0.07, 0.09, 0.11, 0.13, 0.15, 0.17, 0.19, 0.21,\n",
       "         0.23, 0.25, 0.27, 0.29],\n",
       "        [0.01, 0.03, 0.05, 0.07, 0.09, 0.11, 0.13, 0.15, 0.17, 0.19, 0.21,\n",
       "         0.23, 0.25, 0.27, 0.29],\n",
       "        [0.01, 0.03, 0.05, 0.07, 0.09, 0.11, 0.13, 0.15, 0.17, 0.19, 0.21,\n",
       "         0.23, 0.25, 0.27, 0.29],\n",
       "        [0.01, 0.03, 0.05, 0.07, 0.09, 0.11, 0.13, 0.15, 0.17, 0.19, 0.21,\n",
       "         0.23, 0.25, 0.27, 0.29],\n",
       "        [0.01, 0.03, 0.05, 0.07, 0.09, 0.11, 0.13, 0.15, 0.17, 0.19, 0.21,\n",
       "         0.23, 0.25, 0.27, 0.29],\n",
       "        [0.01, 0.03, 0.05, 0.07, 0.09, 0.11, 0.13, 0.15, 0.17, 0.19, 0.21,\n",
       "         0.23, 0.25, 0.27, 0.29],\n",
       "        [0.01, 0.03, 0.05, 0.07, 0.09, 0.11, 0.13, 0.15, 0.17, 0.19, 0.21,\n",
       "         0.23, 0.25, 0.27, 0.29],\n",
       "        [0.01, 0.03, 0.05, 0.07, 0.09, 0.11, 0.13, 0.15, 0.17, 0.19, 0.21,\n",
       "         0.23, 0.25, 0.27, 0.29]]),\n",
       " array([[0.01, 0.03, 0.05, 0.07, 0.09],\n",
       "        [0.01, 0.03, 0.05, 0.07, 0.09],\n",
       "        [0.01, 0.03, 0.05, 0.07, 0.09],\n",
       "        [0.01, 0.03, 0.05, 0.07, 0.09],\n",
       "        [0.01, 0.03, 0.05, 0.07, 0.09],\n",
       "        [0.01, 0.03, 0.05, 0.07, 0.09],\n",
       "        [0.01, 0.03, 0.05, 0.07, 0.09],\n",
       "        [0.01, 0.03, 0.05, 0.07, 0.09]]),\n",
       " array([[0.01, 0.03, 0.05, 0.07, 0.09, 0.11, 0.13, 0.15, 0.17, 0.19, 0.21,\n",
       "         0.23, 0.25, 0.27, 0.29],\n",
       "        [0.01, 0.03, 0.05, 0.07, 0.09, 0.11, 0.13, 0.15, 0.17, 0.19, 0.21,\n",
       "         0.23, 0.25, 0.27, 0.29],\n",
       "        [0.01, 0.03, 0.05, 0.07, 0.09, 0.11, 0.13, 0.15, 0.17, 0.19, 0.21,\n",
       "         0.23, 0.25, 0.27, 0.29],\n",
       "        [0.01, 0.03, 0.05, 0.07, 0.09, 0.11, 0.13, 0.15, 0.17, 0.19, 0.21,\n",
       "         0.23, 0.25, 0.27, 0.29],\n",
       "        [0.01, 0.03, 0.05, 0.07, 0.09, 0.11, 0.13, 0.15, 0.17, 0.19, 0.21,\n",
       "         0.23, 0.25, 0.27, 0.29],\n",
       "        [0.01, 0.03, 0.05, 0.07, 0.09, 0.11, 0.13, 0.15, 0.17, 0.19, 0.21,\n",
       "         0.23, 0.25, 0.27, 0.29],\n",
       "        [0.01, 0.03, 0.05, 0.07, 0.09, 0.11, 0.13, 0.15, 0.17, 0.19, 0.21,\n",
       "         0.23, 0.25, 0.27, 0.29],\n",
       "        [0.01, 0.03, 0.05, 0.07, 0.09, 0.11, 0.13, 0.15, 0.17, 0.19, 0.21,\n",
       "         0.23, 0.25, 0.27, 0.29]]),\n",
       " array([[0.01, 0.03, 0.05, 0.07, 0.09],\n",
       "        [0.01, 0.03, 0.05, 0.07, 0.09],\n",
       "        [0.01, 0.03, 0.05, 0.07, 0.09],\n",
       "        [0.01, 0.03, 0.05, 0.07, 0.09],\n",
       "        [0.01, 0.03, 0.05, 0.07, 0.09],\n",
       "        [0.01, 0.03, 0.05, 0.07, 0.09],\n",
       "        [0.01, 0.03, 0.05, 0.07, 0.09],\n",
       "        [0.01, 0.03, 0.05, 0.07, 0.09]])]"
      ]
     },
     "execution_count": 183,
     "metadata": {},
     "output_type": "execute_result"
    }
   ],
   "source": [
    "x"
   ]
  },
  {
   "cell_type": "code",
   "execution_count": 184,
   "id": "dd7c87c1",
   "metadata": {},
   "outputs": [
    {
     "data": {
      "text/plain": [
       "[array([[0.28125, 0.28125, 0.28125, 0.28125, 0.28125, 0.28125, 0.28125,\n",
       "         0.28125, 0.28125, 0.28125, 0.28125, 0.28125, 0.28125, 0.28125,\n",
       "         0.28125],\n",
       "        [0.24375, 0.24375, 0.24375, 0.24375, 0.24375, 0.24375, 0.24375,\n",
       "         0.24375, 0.24375, 0.24375, 0.24375, 0.24375, 0.24375, 0.24375,\n",
       "         0.24375],\n",
       "        [0.20625, 0.20625, 0.20625, 0.20625, 0.20625, 0.20625, 0.20625,\n",
       "         0.20625, 0.20625, 0.20625, 0.20625, 0.20625, 0.20625, 0.20625,\n",
       "         0.20625],\n",
       "        [0.16875, 0.16875, 0.16875, 0.16875, 0.16875, 0.16875, 0.16875,\n",
       "         0.16875, 0.16875, 0.16875, 0.16875, 0.16875, 0.16875, 0.16875,\n",
       "         0.16875],\n",
       "        [0.13125, 0.13125, 0.13125, 0.13125, 0.13125, 0.13125, 0.13125,\n",
       "         0.13125, 0.13125, 0.13125, 0.13125, 0.13125, 0.13125, 0.13125,\n",
       "         0.13125],\n",
       "        [0.09375, 0.09375, 0.09375, 0.09375, 0.09375, 0.09375, 0.09375,\n",
       "         0.09375, 0.09375, 0.09375, 0.09375, 0.09375, 0.09375, 0.09375,\n",
       "         0.09375],\n",
       "        [0.05625, 0.05625, 0.05625, 0.05625, 0.05625, 0.05625, 0.05625,\n",
       "         0.05625, 0.05625, 0.05625, 0.05625, 0.05625, 0.05625, 0.05625,\n",
       "         0.05625],\n",
       "        [0.01875, 0.01875, 0.01875, 0.01875, 0.01875, 0.01875, 0.01875,\n",
       "         0.01875, 0.01875, 0.01875, 0.01875, 0.01875, 0.01875, 0.01875,\n",
       "         0.01875]]),\n",
       " array([[0.28125, 0.28125, 0.28125, 0.28125, 0.28125],\n",
       "        [0.24375, 0.24375, 0.24375, 0.24375, 0.24375],\n",
       "        [0.20625, 0.20625, 0.20625, 0.20625, 0.20625],\n",
       "        [0.16875, 0.16875, 0.16875, 0.16875, 0.16875],\n",
       "        [0.13125, 0.13125, 0.13125, 0.13125, 0.13125],\n",
       "        [0.09375, 0.09375, 0.09375, 0.09375, 0.09375],\n",
       "        [0.05625, 0.05625, 0.05625, 0.05625, 0.05625],\n",
       "        [0.01875, 0.01875, 0.01875, 0.01875, 0.01875]]),\n",
       " array([[0.28125, 0.28125, 0.28125, 0.28125, 0.28125, 0.28125, 0.28125,\n",
       "         0.28125, 0.28125, 0.28125, 0.28125, 0.28125, 0.28125, 0.28125,\n",
       "         0.28125],\n",
       "        [0.24375, 0.24375, 0.24375, 0.24375, 0.24375, 0.24375, 0.24375,\n",
       "         0.24375, 0.24375, 0.24375, 0.24375, 0.24375, 0.24375, 0.24375,\n",
       "         0.24375],\n",
       "        [0.20625, 0.20625, 0.20625, 0.20625, 0.20625, 0.20625, 0.20625,\n",
       "         0.20625, 0.20625, 0.20625, 0.20625, 0.20625, 0.20625, 0.20625,\n",
       "         0.20625],\n",
       "        [0.16875, 0.16875, 0.16875, 0.16875, 0.16875, 0.16875, 0.16875,\n",
       "         0.16875, 0.16875, 0.16875, 0.16875, 0.16875, 0.16875, 0.16875,\n",
       "         0.16875],\n",
       "        [0.13125, 0.13125, 0.13125, 0.13125, 0.13125, 0.13125, 0.13125,\n",
       "         0.13125, 0.13125, 0.13125, 0.13125, 0.13125, 0.13125, 0.13125,\n",
       "         0.13125],\n",
       "        [0.09375, 0.09375, 0.09375, 0.09375, 0.09375, 0.09375, 0.09375,\n",
       "         0.09375, 0.09375, 0.09375, 0.09375, 0.09375, 0.09375, 0.09375,\n",
       "         0.09375],\n",
       "        [0.05625, 0.05625, 0.05625, 0.05625, 0.05625, 0.05625, 0.05625,\n",
       "         0.05625, 0.05625, 0.05625, 0.05625, 0.05625, 0.05625, 0.05625,\n",
       "         0.05625],\n",
       "        [0.01875, 0.01875, 0.01875, 0.01875, 0.01875, 0.01875, 0.01875,\n",
       "         0.01875, 0.01875, 0.01875, 0.01875, 0.01875, 0.01875, 0.01875,\n",
       "         0.01875]]),\n",
       " array([[0.28125, 0.28125, 0.28125, 0.28125, 0.28125],\n",
       "        [0.24375, 0.24375, 0.24375, 0.24375, 0.24375],\n",
       "        [0.20625, 0.20625, 0.20625, 0.20625, 0.20625],\n",
       "        [0.16875, 0.16875, 0.16875, 0.16875, 0.16875],\n",
       "        [0.13125, 0.13125, 0.13125, 0.13125, 0.13125],\n",
       "        [0.09375, 0.09375, 0.09375, 0.09375, 0.09375],\n",
       "        [0.05625, 0.05625, 0.05625, 0.05625, 0.05625],\n",
       "        [0.01875, 0.01875, 0.01875, 0.01875, 0.01875]])]"
      ]
     },
     "execution_count": 184,
     "metadata": {},
     "output_type": "execute_result"
    }
   ],
   "source": [
    "z"
   ]
  },
  {
   "cell_type": "code",
   "execution_count": 185,
   "id": "c02c1cd8",
   "metadata": {},
   "outputs": [],
   "source": [
    "dz = []\n",
    "\n",
    "for i in range(4):\n",
    "    dz.append([])\n",
    "    for j in range(count_row):\n",
    "        if j == 0:\n",
    "            dz[i].append(np.array(height - z[i][j])+np.array(z[i][j]-z[i][j+1])/2)\n",
    "        elif j == count_row - 1:\n",
    "            dz[i].append(np.array(z[i][j])+np.array(z[i][j-1]-z[i][j])/2)\n",
    "        else:\n",
    "            dz[i].append(np.array(z[i][j-1]-z[i][j])/2+np.array(z[i][j]-z[i][j+1])/2)\n",
    "            "
   ]
  },
  {
   "cell_type": "code",
   "execution_count": 186,
   "id": "cac87793",
   "metadata": {},
   "outputs": [
    {
     "data": {
      "text/plain": [
       "[[array([0.0375, 0.0375, 0.0375, 0.0375, 0.0375, 0.0375, 0.0375, 0.0375,\n",
       "         0.0375, 0.0375, 0.0375, 0.0375, 0.0375, 0.0375, 0.0375]),\n",
       "  array([0.0375, 0.0375, 0.0375, 0.0375, 0.0375, 0.0375, 0.0375, 0.0375,\n",
       "         0.0375, 0.0375, 0.0375, 0.0375, 0.0375, 0.0375, 0.0375]),\n",
       "  array([0.0375, 0.0375, 0.0375, 0.0375, 0.0375, 0.0375, 0.0375, 0.0375,\n",
       "         0.0375, 0.0375, 0.0375, 0.0375, 0.0375, 0.0375, 0.0375]),\n",
       "  array([0.0375, 0.0375, 0.0375, 0.0375, 0.0375, 0.0375, 0.0375, 0.0375,\n",
       "         0.0375, 0.0375, 0.0375, 0.0375, 0.0375, 0.0375, 0.0375]),\n",
       "  array([0.0375, 0.0375, 0.0375, 0.0375, 0.0375, 0.0375, 0.0375, 0.0375,\n",
       "         0.0375, 0.0375, 0.0375, 0.0375, 0.0375, 0.0375, 0.0375]),\n",
       "  array([0.0375, 0.0375, 0.0375, 0.0375, 0.0375, 0.0375, 0.0375, 0.0375,\n",
       "         0.0375, 0.0375, 0.0375, 0.0375, 0.0375, 0.0375, 0.0375]),\n",
       "  array([0.0375, 0.0375, 0.0375, 0.0375, 0.0375, 0.0375, 0.0375, 0.0375,\n",
       "         0.0375, 0.0375, 0.0375, 0.0375, 0.0375, 0.0375, 0.0375]),\n",
       "  array([0.0375, 0.0375, 0.0375, 0.0375, 0.0375, 0.0375, 0.0375, 0.0375,\n",
       "         0.0375, 0.0375, 0.0375, 0.0375, 0.0375, 0.0375, 0.0375])],\n",
       " [array([0.0375, 0.0375, 0.0375, 0.0375, 0.0375]),\n",
       "  array([0.0375, 0.0375, 0.0375, 0.0375, 0.0375]),\n",
       "  array([0.0375, 0.0375, 0.0375, 0.0375, 0.0375]),\n",
       "  array([0.0375, 0.0375, 0.0375, 0.0375, 0.0375]),\n",
       "  array([0.0375, 0.0375, 0.0375, 0.0375, 0.0375]),\n",
       "  array([0.0375, 0.0375, 0.0375, 0.0375, 0.0375]),\n",
       "  array([0.0375, 0.0375, 0.0375, 0.0375, 0.0375]),\n",
       "  array([0.0375, 0.0375, 0.0375, 0.0375, 0.0375])],\n",
       " [array([0.0375, 0.0375, 0.0375, 0.0375, 0.0375, 0.0375, 0.0375, 0.0375,\n",
       "         0.0375, 0.0375, 0.0375, 0.0375, 0.0375, 0.0375, 0.0375]),\n",
       "  array([0.0375, 0.0375, 0.0375, 0.0375, 0.0375, 0.0375, 0.0375, 0.0375,\n",
       "         0.0375, 0.0375, 0.0375, 0.0375, 0.0375, 0.0375, 0.0375]),\n",
       "  array([0.0375, 0.0375, 0.0375, 0.0375, 0.0375, 0.0375, 0.0375, 0.0375,\n",
       "         0.0375, 0.0375, 0.0375, 0.0375, 0.0375, 0.0375, 0.0375]),\n",
       "  array([0.0375, 0.0375, 0.0375, 0.0375, 0.0375, 0.0375, 0.0375, 0.0375,\n",
       "         0.0375, 0.0375, 0.0375, 0.0375, 0.0375, 0.0375, 0.0375]),\n",
       "  array([0.0375, 0.0375, 0.0375, 0.0375, 0.0375, 0.0375, 0.0375, 0.0375,\n",
       "         0.0375, 0.0375, 0.0375, 0.0375, 0.0375, 0.0375, 0.0375]),\n",
       "  array([0.0375, 0.0375, 0.0375, 0.0375, 0.0375, 0.0375, 0.0375, 0.0375,\n",
       "         0.0375, 0.0375, 0.0375, 0.0375, 0.0375, 0.0375, 0.0375]),\n",
       "  array([0.0375, 0.0375, 0.0375, 0.0375, 0.0375, 0.0375, 0.0375, 0.0375,\n",
       "         0.0375, 0.0375, 0.0375, 0.0375, 0.0375, 0.0375, 0.0375]),\n",
       "  array([0.0375, 0.0375, 0.0375, 0.0375, 0.0375, 0.0375, 0.0375, 0.0375,\n",
       "         0.0375, 0.0375, 0.0375, 0.0375, 0.0375, 0.0375, 0.0375])],\n",
       " [array([0.0375, 0.0375, 0.0375, 0.0375, 0.0375]),\n",
       "  array([0.0375, 0.0375, 0.0375, 0.0375, 0.0375]),\n",
       "  array([0.0375, 0.0375, 0.0375, 0.0375, 0.0375]),\n",
       "  array([0.0375, 0.0375, 0.0375, 0.0375, 0.0375]),\n",
       "  array([0.0375, 0.0375, 0.0375, 0.0375, 0.0375]),\n",
       "  array([0.0375, 0.0375, 0.0375, 0.0375, 0.0375]),\n",
       "  array([0.0375, 0.0375, 0.0375, 0.0375, 0.0375]),\n",
       "  array([0.0375, 0.0375, 0.0375, 0.0375, 0.0375])]]"
      ]
     },
     "execution_count": 186,
     "metadata": {},
     "output_type": "execute_result"
    }
   ],
   "source": [
    "dz"
   ]
  },
  {
   "cell_type": "code",
   "execution_count": 187,
   "id": "4e56407b",
   "metadata": {},
   "outputs": [
    {
     "data": {
      "text/plain": [
       "[array([[0.01, 0.03, 0.05, 0.07, 0.09, 0.11, 0.13, 0.15, 0.17, 0.19, 0.21,\n",
       "         0.23, 0.25, 0.27, 0.29],\n",
       "        [0.01, 0.03, 0.05, 0.07, 0.09, 0.11, 0.13, 0.15, 0.17, 0.19, 0.21,\n",
       "         0.23, 0.25, 0.27, 0.29],\n",
       "        [0.01, 0.03, 0.05, 0.07, 0.09, 0.11, 0.13, 0.15, 0.17, 0.19, 0.21,\n",
       "         0.23, 0.25, 0.27, 0.29],\n",
       "        [0.01, 0.03, 0.05, 0.07, 0.09, 0.11, 0.13, 0.15, 0.17, 0.19, 0.21,\n",
       "         0.23, 0.25, 0.27, 0.29],\n",
       "        [0.01, 0.03, 0.05, 0.07, 0.09, 0.11, 0.13, 0.15, 0.17, 0.19, 0.21,\n",
       "         0.23, 0.25, 0.27, 0.29],\n",
       "        [0.01, 0.03, 0.05, 0.07, 0.09, 0.11, 0.13, 0.15, 0.17, 0.19, 0.21,\n",
       "         0.23, 0.25, 0.27, 0.29],\n",
       "        [0.01, 0.03, 0.05, 0.07, 0.09, 0.11, 0.13, 0.15, 0.17, 0.19, 0.21,\n",
       "         0.23, 0.25, 0.27, 0.29],\n",
       "        [0.01, 0.03, 0.05, 0.07, 0.09, 0.11, 0.13, 0.15, 0.17, 0.19, 0.21,\n",
       "         0.23, 0.25, 0.27, 0.29]]),\n",
       " array([[0.01, 0.03, 0.05, 0.07, 0.09],\n",
       "        [0.01, 0.03, 0.05, 0.07, 0.09],\n",
       "        [0.01, 0.03, 0.05, 0.07, 0.09],\n",
       "        [0.01, 0.03, 0.05, 0.07, 0.09],\n",
       "        [0.01, 0.03, 0.05, 0.07, 0.09],\n",
       "        [0.01, 0.03, 0.05, 0.07, 0.09],\n",
       "        [0.01, 0.03, 0.05, 0.07, 0.09],\n",
       "        [0.01, 0.03, 0.05, 0.07, 0.09]]),\n",
       " array([[0.01, 0.03, 0.05, 0.07, 0.09, 0.11, 0.13, 0.15, 0.17, 0.19, 0.21,\n",
       "         0.23, 0.25, 0.27, 0.29],\n",
       "        [0.01, 0.03, 0.05, 0.07, 0.09, 0.11, 0.13, 0.15, 0.17, 0.19, 0.21,\n",
       "         0.23, 0.25, 0.27, 0.29],\n",
       "        [0.01, 0.03, 0.05, 0.07, 0.09, 0.11, 0.13, 0.15, 0.17, 0.19, 0.21,\n",
       "         0.23, 0.25, 0.27, 0.29],\n",
       "        [0.01, 0.03, 0.05, 0.07, 0.09, 0.11, 0.13, 0.15, 0.17, 0.19, 0.21,\n",
       "         0.23, 0.25, 0.27, 0.29],\n",
       "        [0.01, 0.03, 0.05, 0.07, 0.09, 0.11, 0.13, 0.15, 0.17, 0.19, 0.21,\n",
       "         0.23, 0.25, 0.27, 0.29],\n",
       "        [0.01, 0.03, 0.05, 0.07, 0.09, 0.11, 0.13, 0.15, 0.17, 0.19, 0.21,\n",
       "         0.23, 0.25, 0.27, 0.29],\n",
       "        [0.01, 0.03, 0.05, 0.07, 0.09, 0.11, 0.13, 0.15, 0.17, 0.19, 0.21,\n",
       "         0.23, 0.25, 0.27, 0.29],\n",
       "        [0.01, 0.03, 0.05, 0.07, 0.09, 0.11, 0.13, 0.15, 0.17, 0.19, 0.21,\n",
       "         0.23, 0.25, 0.27, 0.29]]),\n",
       " array([[0.01, 0.03, 0.05, 0.07, 0.09],\n",
       "        [0.01, 0.03, 0.05, 0.07, 0.09],\n",
       "        [0.01, 0.03, 0.05, 0.07, 0.09],\n",
       "        [0.01, 0.03, 0.05, 0.07, 0.09],\n",
       "        [0.01, 0.03, 0.05, 0.07, 0.09],\n",
       "        [0.01, 0.03, 0.05, 0.07, 0.09],\n",
       "        [0.01, 0.03, 0.05, 0.07, 0.09],\n",
       "        [0.01, 0.03, 0.05, 0.07, 0.09]])]"
      ]
     },
     "execution_count": 187,
     "metadata": {},
     "output_type": "execute_result"
    }
   ],
   "source": [
    "x"
   ]
  },
  {
   "cell_type": "code",
   "execution_count": 190,
   "id": "98a67f7b",
   "metadata": {},
   "outputs": [
    {
     "data": {
      "text/plain": [
       "array([[0.09, 0.09, 0.09, 0.09, 0.09, 0.09, 0.09, 0.09],\n",
       "       [0.07, 0.07, 0.07, 0.07, 0.07, 0.07, 0.07, 0.07],\n",
       "       [0.05, 0.05, 0.05, 0.05, 0.05, 0.05, 0.05, 0.05],\n",
       "       [0.03, 0.03, 0.03, 0.03, 0.03, 0.03, 0.03, 0.03],\n",
       "       [0.01, 0.01, 0.01, 0.01, 0.01, 0.01, 0.01, 0.01]])"
      ]
     },
     "execution_count": 190,
     "metadata": {},
     "output_type": "execute_result"
    }
   ],
   "source": [
    "np.flip(x[1].T)"
   ]
  },
  {
   "cell_type": "code",
   "execution_count": 191,
   "id": "feb81f73",
   "metadata": {},
   "outputs": [
    {
     "data": {
      "text/plain": [
       "array([[0.01, 0.01, 0.01, 0.01, 0.01, 0.01, 0.01, 0.01],\n",
       "       [0.03, 0.03, 0.03, 0.03, 0.03, 0.03, 0.03, 0.03],\n",
       "       [0.05, 0.05, 0.05, 0.05, 0.05, 0.05, 0.05, 0.05],\n",
       "       [0.07, 0.07, 0.07, 0.07, 0.07, 0.07, 0.07, 0.07],\n",
       "       [0.09, 0.09, 0.09, 0.09, 0.09, 0.09, 0.09, 0.09]])"
      ]
     },
     "execution_count": 191,
     "metadata": {},
     "output_type": "execute_result"
    }
   ],
   "source": [
    "x[1].T"
   ]
  },
  {
   "cell_type": "code",
   "execution_count": 188,
   "id": "d9cf51a1",
   "metadata": {},
   "outputs": [],
   "source": [
    "dx = []\n",
    "\n",
    "for i in range(4):\n",
    "    dx.append([])\n",
    "    if i in [0,2]:\n",
    "        for j in range(count_row):\n",
    "            if j == 0:\n",
    "                dx[i].append(np.array(breadth - np.flip(x[i].T)[j])+np.array(np.flip(x[i].T)[j]-np.flip(x[i].T)[j+1])/2)\n",
    "            elif j == count_row - 1:\n",
    "                dx[i].append(np.array(np.flip(x[i].T)[j])+np.array(np.flip(x[i].T)[j-1]-np.flip(x[i].T)[j])/2)\n",
    "            else:\n",
    "                dx[i].append(np.array(np.flip(x[i].T)[j-1]-np.flip(x[i].T)[j])/2+np.array(np.flip(x[i].T)[j]-np.flip(x[i].T)[j+1])/2)"
   ]
  },
  {
   "cell_type": "code",
   "execution_count": 189,
   "id": "a14dd309",
   "metadata": {},
   "outputs": [
    {
     "data": {
      "text/plain": [
       "[array([0.02, 0.02, 0.02, 0.02, 0.02, 0.02, 0.02, 0.02]),\n",
       " array([0.02, 0.02, 0.02, 0.02, 0.02, 0.02, 0.02, 0.02]),\n",
       " array([0.02, 0.02, 0.02, 0.02, 0.02, 0.02, 0.02, 0.02]),\n",
       " array([0.02, 0.02, 0.02, 0.02, 0.02, 0.02, 0.02, 0.02]),\n",
       " array([0.02, 0.02, 0.02, 0.02, 0.02, 0.02, 0.02, 0.02]),\n",
       " array([0.02, 0.02, 0.02, 0.02, 0.02, 0.02, 0.02, 0.02]),\n",
       " array([0.02, 0.02, 0.02, 0.02, 0.02, 0.02, 0.02, 0.02]),\n",
       " array([0.16, 0.16, 0.16, 0.16, 0.16, 0.16, 0.16, 0.16])]"
      ]
     },
     "execution_count": 189,
     "metadata": {},
     "output_type": "execute_result"
    }
   ],
   "source": [
    "dx[0]"
   ]
  },
  {
   "cell_type": "code",
   "execution_count": 138,
   "id": "ed467dae",
   "metadata": {},
   "outputs": [
    {
     "data": {
      "text/plain": [
       "[[array([0.02, 0.02, 0.02, 0.02, 0.02]),\n",
       "  array([0.02, 0.02, 0.02, 0.02, 0.02]),\n",
       "  array([0.02, 0.02, 0.02, 0.02, 0.02]),\n",
       "  array([0.02, 0.02, 0.02, 0.02, 0.02]),\n",
       "  array([0.02, 0.02, 0.02, 0.02, 0.02])],\n",
       " [array([0.02, 0.02, 0.02, 0.02, 0.02]),\n",
       "  array([0.02, 0.02, 0.02, 0.02, 0.02]),\n",
       "  array([0.02, 0.02, 0.02, 0.02, 0.02]),\n",
       "  array([0.02, 0.02, 0.02, 0.02, 0.02]),\n",
       "  array([0.02, 0.02, 0.02, 0.02, 0.02])],\n",
       " [array([0.02, 0.02, 0.02, 0.02, 0.02]),\n",
       "  array([0.02, 0.02, 0.02, 0.02, 0.02]),\n",
       "  array([0.02, 0.02, 0.02, 0.02, 0.02]),\n",
       "  array([0.02, 0.02, 0.02, 0.02, 0.02]),\n",
       "  array([0.02, 0.02, 0.02, 0.02, 0.02])],\n",
       " [array([0.02, 0.02, 0.02, 0.02, 0.02]),\n",
       "  array([0.02, 0.02, 0.02, 0.02, 0.02]),\n",
       "  array([0.02, 0.02, 0.02, 0.02, 0.02]),\n",
       "  array([0.02, 0.02, 0.02, 0.02, 0.02]),\n",
       "  array([0.02, 0.02, 0.02, 0.02, 0.02])]]"
      ]
     },
     "execution_count": 138,
     "metadata": {},
     "output_type": "execute_result"
    }
   ],
   "source": [
    "dz"
   ]
  },
  {
   "cell_type": "code",
   "execution_count": 139,
   "id": "5a295b6b",
   "metadata": {},
   "outputs": [
    {
     "data": {
      "text/plain": [
       "[[array([1.73472348e-18, 1.73472348e-18, 1.73472348e-18, 1.73472348e-18,\n",
       "         1.73472348e-18]),\n",
       "  array([0.02, 0.02, 0.02, 0.02, 0.02]),\n",
       "  array([0.02, 0.02, 0.02, 0.02, 0.02]),\n",
       "  array([0.02, 0.02, 0.02, 0.02, 0.02]),\n",
       "  array([0.08, 0.08, 0.08, 0.08, 0.08])],\n",
       " [array([6.9388939e-18, 6.9388939e-18, 6.9388939e-18, 6.9388939e-18,\n",
       "         6.9388939e-18]),\n",
       "  array([0.02, 0.02, 0.02, 0.02, 0.02]),\n",
       "  array([0.02, 0.02, 0.02, 0.02, 0.02]),\n",
       "  array([0.02, 0.02, 0.02, 0.02, 0.02]),\n",
       "  array([0.08, 0.08, 0.08, 0.08, 0.08])],\n",
       " [array([2.77555756e-17, 2.77555756e-17, 2.77555756e-17, 2.77555756e-17,\n",
       "         2.77555756e-17]),\n",
       "  array([0.02, 0.02, 0.02, 0.02, 0.02]),\n",
       "  array([0.02, 0.02, 0.02, 0.02, 0.02]),\n",
       "  array([0.02, 0.02, 0.02, 0.02, 0.02]),\n",
       "  array([0.08, 0.08, 0.08, 0.08, 0.08])],\n",
       " [array([5.55111512e-17, 5.55111512e-17, 5.55111512e-17, 5.55111512e-17,\n",
       "         5.55111512e-17]),\n",
       "  array([0.02, 0.02, 0.02, 0.02, 0.02]),\n",
       "  array([0.02, 0.02, 0.02, 0.02, 0.02]),\n",
       "  array([0.02, 0.02, 0.02, 0.02, 0.02]),\n",
       "  array([0.08, 0.08, 0.08, 0.08, 0.08])]]"
      ]
     },
     "execution_count": 139,
     "metadata": {},
     "output_type": "execute_result"
    }
   ],
   "source": [
    "dx"
   ]
  },
  {
   "cell_type": "code",
   "execution_count": 204,
   "id": "42012872",
   "metadata": {},
   "outputs": [
    {
     "data": {
      "text/plain": [
       "[array([[0.09, 0.09, 0.09, 0.09, 0.09],\n",
       "        [0.07, 0.07, 0.07, 0.07, 0.07],\n",
       "        [0.05, 0.05, 0.05, 0.05, 0.05],\n",
       "        [0.03, 0.03, 0.03, 0.03, 0.03],\n",
       "        [0.01, 0.01, 0.01, 0.01, 0.01]]),\n",
       " array([[0.09, 0.09, 0.09, 0.09, 0.09],\n",
       "        [0.07, 0.07, 0.07, 0.07, 0.07],\n",
       "        [0.05, 0.05, 0.05, 0.05, 0.05],\n",
       "        [0.03, 0.03, 0.03, 0.03, 0.03],\n",
       "        [0.01, 0.01, 0.01, 0.01, 0.01]]),\n",
       " array([[0.09, 0.09, 0.09, 0.09, 0.09],\n",
       "        [0.07, 0.07, 0.07, 0.07, 0.07],\n",
       "        [0.05, 0.05, 0.05, 0.05, 0.05],\n",
       "        [0.03, 0.03, 0.03, 0.03, 0.03],\n",
       "        [0.01, 0.01, 0.01, 0.01, 0.01]]),\n",
       " array([[0.09, 0.09, 0.09, 0.09, 0.09],\n",
       "        [0.07, 0.07, 0.07, 0.07, 0.07],\n",
       "        [0.05, 0.05, 0.05, 0.05, 0.05],\n",
       "        [0.03, 0.03, 0.03, 0.03, 0.03],\n",
       "        [0.01, 0.01, 0.01, 0.01, 0.01]])]"
      ]
     },
     "execution_count": 204,
     "metadata": {},
     "output_type": "execute_result"
    }
   ],
   "source": [
    "z"
   ]
  },
  {
   "cell_type": "code",
   "execution_count": 205,
   "id": "661f1dee",
   "metadata": {},
   "outputs": [
    {
     "data": {
      "text/plain": [
       "[array([[0.01, 0.03, 0.05, 0.07, 0.09],\n",
       "        [0.01, 0.03, 0.05, 0.07, 0.09],\n",
       "        [0.01, 0.03, 0.05, 0.07, 0.09],\n",
       "        [0.01, 0.03, 0.05, 0.07, 0.09],\n",
       "        [0.01, 0.03, 0.05, 0.07, 0.09]]),\n",
       " array([[0.01, 0.03, 0.05, 0.07, 0.09],\n",
       "        [0.01, 0.03, 0.05, 0.07, 0.09],\n",
       "        [0.01, 0.03, 0.05, 0.07, 0.09],\n",
       "        [0.01, 0.03, 0.05, 0.07, 0.09],\n",
       "        [0.01, 0.03, 0.05, 0.07, 0.09]]),\n",
       " array([[0.01, 0.03, 0.05, 0.07, 0.09],\n",
       "        [0.01, 0.03, 0.05, 0.07, 0.09],\n",
       "        [0.01, 0.03, 0.05, 0.07, 0.09],\n",
       "        [0.01, 0.03, 0.05, 0.07, 0.09],\n",
       "        [0.01, 0.03, 0.05, 0.07, 0.09]]),\n",
       " array([[0.01, 0.03, 0.05, 0.07, 0.09],\n",
       "        [0.01, 0.03, 0.05, 0.07, 0.09],\n",
       "        [0.01, 0.03, 0.05, 0.07, 0.09],\n",
       "        [0.01, 0.03, 0.05, 0.07, 0.09],\n",
       "        [0.01, 0.03, 0.05, 0.07, 0.09]])]"
      ]
     },
     "execution_count": 205,
     "metadata": {},
     "output_type": "execute_result"
    }
   ],
   "source": [
    "x"
   ]
  },
  {
   "cell_type": "code",
   "execution_count": 25,
   "id": "8fdbb970",
   "metadata": {},
   "outputs": [],
   "source": [
    "a=np.array([1,2,3,4,5])\n",
    "b = [1,1,0,-1,-1]"
   ]
  },
  {
   "cell_type": "code",
   "execution_count": 26,
   "id": "85363a90",
   "metadata": {},
   "outputs": [
    {
     "data": {
      "text/plain": [
       "array([ 1,  2,  0, -4, -5])"
      ]
     },
     "execution_count": 26,
     "metadata": {},
     "output_type": "execute_result"
    }
   ],
   "source": [
    "a*b"
   ]
  },
  {
   "cell_type": "code",
   "execution_count": null,
   "id": "05996545",
   "metadata": {},
   "outputs": [],
   "source": []
  },
  {
   "cell_type": "code",
   "execution_count": null,
   "id": "a33d96f9",
   "metadata": {},
   "outputs": [],
   "source": []
  },
  {
   "cell_type": "code",
   "execution_count": 272,
   "id": "f1e00621",
   "metadata": {},
   "outputs": [],
   "source": [
    "mean_pr_nr = []\n",
    "for i in range(4):\n",
    "    mean_pr_nr.append(mean_pr[i]*[1,1,1,-1,-1])"
   ]
  },
  {
   "cell_type": "code",
   "execution_count": 273,
   "id": "9cf1b369",
   "metadata": {},
   "outputs": [
    {
     "data": {
      "text/plain": [
       "[array([[ 0.63784979,  0.75246725,  0.75709412, -0.75326111, -0.64909683],\n",
       "        [ 0.68849747,  0.92879584,  0.9605867 , -0.92891296, -0.68795883],\n",
       "        [ 0.62320154,  0.88008801,  0.92363824, -0.88091302, -0.62181122],\n",
       "        [ 0.48330771,  0.76740866,  0.81601962, -0.77286655, -0.50327991],\n",
       "        [ 0.37576022,  0.75821518,  0.79266379, -0.7288855 , -0.37109271]]),\n",
       " array([[-1.32753845, -1.31243759, -1.06125641,  0.7628273 ,  0.55787033],\n",
       "        [-1.22580017, -1.29017084, -1.11184354,  0.82173282,  0.61292117],\n",
       "        [-1.15426184, -1.21993256, -1.09408136,  0.83791516,  0.65477634],\n",
       "        [-1.15460892, -1.19927493, -1.05468448,  0.81595862,  0.64603415],\n",
       "        [-1.17326157, -1.15450433, -0.96124301,  0.72660229,  0.55918463]]),\n",
       " array([[-0.49776068, -0.48607898, -0.48338226,  0.48961966,  0.50216214],\n",
       "        [-0.51166525, -0.49957541, -0.494638  ,  0.50283713,  0.51391318],\n",
       "        [-0.51027325, -0.487599  , -0.47380435,  0.48406006,  0.50871219],\n",
       "        [-0.49485352, -0.46196545, -0.44472018,  0.4627984 ,  0.49470084],\n",
       "        [-0.4696825 , -0.42873779, -0.4002973 ,  0.42375806,  0.46711902]]),\n",
       " array([[-0.56174094, -0.76796603, -1.06115631,  1.31227539,  1.31928769],\n",
       "        [-0.61986914, -0.8186192 , -1.10723227,  1.28450333,  1.2206803 ],\n",
       "        [-0.65693488, -0.83121024, -1.07959601,  1.22399139,  1.14512607],\n",
       "        [-0.65590094, -0.80804675, -1.04191565,  1.20040982,  1.16124808],\n",
       "        [-0.58432159, -0.72442081, -0.93382108,  1.13720856,  1.17959082]])]"
      ]
     },
     "execution_count": 273,
     "metadata": {},
     "output_type": "execute_result"
    }
   ],
   "source": [
    "mean_pr_nr"
   ]
  },
  {
   "cell_type": "code",
   "execution_count": 243,
   "id": "1144704b",
   "metadata": {},
   "outputs": [
    {
     "data": {
      "text/plain": [
       "-7.884063934326171"
      ]
     },
     "execution_count": 243,
     "metadata": {},
     "output_type": "execute_result"
    }
   ],
   "source": [
    "np.sum(sum(mean_pr_nr[1]))"
   ]
  },
  {
   "cell_type": "code",
   "execution_count": 244,
   "id": "5fcbda44",
   "metadata": {},
   "outputs": [
    {
     "data": {
      "text/plain": [
       "1.868685913085967"
      ]
     },
     "execution_count": 244,
     "metadata": {},
     "output_type": "execute_result"
    }
   ],
   "source": [
    "np.sum(sum(mean_pr_nr[3]))"
   ]
  },
  {
   "cell_type": "code",
   "execution_count": 271,
   "id": "abcf4312",
   "metadata": {},
   "outputs": [
    {
     "data": {
      "text/plain": [
       "[array([[0.63784979, 0.75246725, 0.75709412, 0.75326111, 0.64909683],\n",
       "        [0.68849747, 0.92879584, 0.9605867 , 0.92891296, 0.68795883],\n",
       "        [0.62320154, 0.88008801, 0.92363824, 0.88091302, 0.62181122],\n",
       "        [0.48330771, 0.76740866, 0.81601962, 0.77286655, 0.50327991],\n",
       "        [0.37576022, 0.75821518, 0.79266379, 0.7288855 , 0.37109271]]),\n",
       " array([[-1.32753845, -1.31243759, -1.06125641, -0.7628273 , -0.55787033],\n",
       "        [-1.22580017, -1.29017084, -1.11184354, -0.82173282, -0.61292117],\n",
       "        [-1.15426184, -1.21993256, -1.09408136, -0.83791516, -0.65477634],\n",
       "        [-1.15460892, -1.19927493, -1.05468448, -0.81595862, -0.64603415],\n",
       "        [-1.17326157, -1.15450433, -0.96124301, -0.72660229, -0.55918463]]),\n",
       " array([[-0.49776068, -0.48607898, -0.48338226, -0.48961966, -0.50216214],\n",
       "        [-0.51166525, -0.49957541, -0.494638  , -0.50283713, -0.51391318],\n",
       "        [-0.51027325, -0.487599  , -0.47380435, -0.48406006, -0.50871219],\n",
       "        [-0.49485352, -0.46196545, -0.44472018, -0.4627984 , -0.49470084],\n",
       "        [-0.4696825 , -0.42873779, -0.4002973 , -0.42375806, -0.46711902]]),\n",
       " array([[-0.56174094, -0.76796603, -1.06115631, -1.31227539, -1.31928769],\n",
       "        [-0.61986914, -0.8186192 , -1.10723227, -1.28450333, -1.2206803 ],\n",
       "        [-0.65693488, -0.83121024, -1.07959601, -1.22399139, -1.14512607],\n",
       "        [-0.65590094, -0.80804675, -1.04191565, -1.20040982, -1.16124808],\n",
       "        [-0.58432159, -0.72442081, -0.93382108, -1.13720856, -1.17959082]])]"
      ]
     },
     "execution_count": 271,
     "metadata": {},
     "output_type": "execute_result"
    }
   ],
   "source": [
    "mean_pr"
   ]
  },
  {
   "cell_type": "code",
   "execution_count": 261,
   "id": "5de36d82",
   "metadata": {},
   "outputs": [],
   "source": [
    "mx = np.array([\n",
    "    abs(x[0] - mid13),\n",
    "    abs(x[1] - mid24),\n",
    "    abs(x[2] - mid13),\n",
    "    abs(x[3] - mid24),\n",
    "])"
   ]
  },
  {
   "cell_type": "code",
   "execution_count": 262,
   "id": "6435d834",
   "metadata": {},
   "outputs": [
    {
     "data": {
      "text/plain": [
       "array([[[4.00000000e-02, 2.00000000e-02, 0.00000000e+00, 2.00000000e-02,\n",
       "         4.00000000e-02],\n",
       "        [4.00000000e-02, 2.00000000e-02, 0.00000000e+00, 2.00000000e-02,\n",
       "         4.00000000e-02],\n",
       "        [4.00000000e-02, 2.00000000e-02, 0.00000000e+00, 2.00000000e-02,\n",
       "         4.00000000e-02],\n",
       "        [4.00000000e-02, 2.00000000e-02, 0.00000000e+00, 2.00000000e-02,\n",
       "         4.00000000e-02],\n",
       "        [4.00000000e-02, 2.00000000e-02, 0.00000000e+00, 2.00000000e-02,\n",
       "         4.00000000e-02]],\n",
       "\n",
       "       [[4.00000000e-02, 2.00000000e-02, 1.38777878e-17, 2.00000000e-02,\n",
       "         4.00000000e-02],\n",
       "        [4.00000000e-02, 2.00000000e-02, 1.38777878e-17, 2.00000000e-02,\n",
       "         4.00000000e-02],\n",
       "        [4.00000000e-02, 2.00000000e-02, 1.38777878e-17, 2.00000000e-02,\n",
       "         4.00000000e-02],\n",
       "        [4.00000000e-02, 2.00000000e-02, 1.38777878e-17, 2.00000000e-02,\n",
       "         4.00000000e-02],\n",
       "        [4.00000000e-02, 2.00000000e-02, 1.38777878e-17, 2.00000000e-02,\n",
       "         4.00000000e-02]],\n",
       "\n",
       "       [[4.00000000e-02, 2.00000000e-02, 1.38777878e-17, 2.00000000e-02,\n",
       "         4.00000000e-02],\n",
       "        [4.00000000e-02, 2.00000000e-02, 1.38777878e-17, 2.00000000e-02,\n",
       "         4.00000000e-02],\n",
       "        [4.00000000e-02, 2.00000000e-02, 1.38777878e-17, 2.00000000e-02,\n",
       "         4.00000000e-02],\n",
       "        [4.00000000e-02, 2.00000000e-02, 1.38777878e-17, 2.00000000e-02,\n",
       "         4.00000000e-02],\n",
       "        [4.00000000e-02, 2.00000000e-02, 1.38777878e-17, 2.00000000e-02,\n",
       "         4.00000000e-02]],\n",
       "\n",
       "       [[4.00000000e-02, 2.00000000e-02, 6.93889390e-17, 2.00000000e-02,\n",
       "         4.00000000e-02],\n",
       "        [4.00000000e-02, 2.00000000e-02, 6.93889390e-17, 2.00000000e-02,\n",
       "         4.00000000e-02],\n",
       "        [4.00000000e-02, 2.00000000e-02, 6.93889390e-17, 2.00000000e-02,\n",
       "         4.00000000e-02],\n",
       "        [4.00000000e-02, 2.00000000e-02, 6.93889390e-17, 2.00000000e-02,\n",
       "         4.00000000e-02],\n",
       "        [4.00000000e-02, 2.00000000e-02, 6.93889390e-17, 2.00000000e-02,\n",
       "         4.00000000e-02]]])"
      ]
     },
     "execution_count": 262,
     "metadata": {},
     "output_type": "execute_result"
    }
   ],
   "source": [
    "mx"
   ]
  },
  {
   "cell_type": "code",
   "execution_count": 274,
   "id": "12ba23a7",
   "metadata": {},
   "outputs": [],
   "source": [
    "cmz = mx*mean_pr_nr"
   ]
  },
  {
   "cell_type": "code",
   "execution_count": 275,
   "id": "ed0f07ec",
   "metadata": {},
   "outputs": [
    {
     "data": {
      "text/plain": [
       "array([[[ 2.55139917e-02,  1.50493451e-02,  0.00000000e+00,\n",
       "         -1.50652222e-02, -2.59638733e-02],\n",
       "        [ 2.75398987e-02,  1.85759167e-02,  0.00000000e+00,\n",
       "         -1.85782593e-02, -2.75183533e-02],\n",
       "        [ 2.49280615e-02,  1.76017603e-02,  0.00000000e+00,\n",
       "         -1.76182605e-02, -2.48724487e-02],\n",
       "        [ 1.93323083e-02,  1.53481732e-02,  0.00000000e+00,\n",
       "         -1.54573309e-02, -2.01311963e-02],\n",
       "        [ 1.50304089e-02,  1.51643036e-02,  0.00000000e+00,\n",
       "         -1.45777100e-02, -1.48437085e-02]],\n",
       "\n",
       "       [[-5.31015381e-02, -2.62487518e-02, -1.47278912e-17,\n",
       "          1.52565460e-02,  2.23148132e-02],\n",
       "        [-4.90320068e-02, -2.58034167e-02, -1.54299287e-17,\n",
       "          1.64346564e-02,  2.45168469e-02],\n",
       "        [-4.61704736e-02, -2.43986511e-02, -1.51834290e-17,\n",
       "          1.67583032e-02,  2.61910535e-02],\n",
       "        [-4.61843567e-02, -2.39854987e-02, -1.46366874e-17,\n",
       "          1.63191724e-02,  2.58413660e-02],\n",
       "        [-4.69304626e-02, -2.30900867e-02, -1.33399265e-17,\n",
       "          1.45320459e-02,  2.23673853e-02]],\n",
       "\n",
       "       [[-1.99104272e-02, -9.72157959e-03, -6.70827648e-18,\n",
       "          9.79239319e-03,  2.00864856e-02],\n",
       "        [-2.04666101e-02, -9.99150818e-03, -6.86448121e-18,\n",
       "          1.00567426e-02,  2.05565271e-02],\n",
       "        [-2.04109302e-02, -9.75197998e-03, -6.57535626e-18,\n",
       "          9.68120117e-03,  2.03484875e-02],\n",
       "        [-1.97941406e-02, -9.23930908e-03, -6.17173235e-18,\n",
       "          9.25596802e-03,  1.97880334e-02],\n",
       "        [-1.87872998e-02, -8.57475586e-03, -5.55524102e-18,\n",
       "          8.47516113e-03,  1.86847607e-02]],\n",
       "\n",
       "       [[-2.24696375e-02, -1.53593207e-02, -7.36325106e-17,\n",
       "          2.62455078e-02,  5.27715076e-02],\n",
       "        [-2.47947656e-02, -1.63723840e-02, -7.68296724e-17,\n",
       "          2.56900665e-02,  4.88272119e-02],\n",
       "        [-2.62773950e-02, -1.66242047e-02, -7.49120216e-17,\n",
       "          2.44798279e-02,  4.58050427e-02],\n",
       "        [-2.62360376e-02, -1.61609351e-02, -7.22974215e-17,\n",
       "          2.40081964e-02,  4.64499231e-02],\n",
       "        [-2.33728638e-02, -1.44884161e-02, -6.47968537e-17,\n",
       "          2.27441711e-02,  4.71836328e-02]]])"
      ]
     },
     "execution_count": 275,
     "metadata": {},
     "output_type": "execute_result"
    }
   ],
   "source": [
    "cmz"
   ]
  },
  {
   "cell_type": "code",
   "execution_count": 276,
   "id": "b2ed754b",
   "metadata": {},
   "outputs": [
    {
     "data": {
      "text/plain": [
       "array([[-6.99676111e-02, -3.62803070e-02, -9.50686783e-17,\n",
       "         3.62292249e-02,  6.92089331e-02],\n",
       "       [-6.67534839e-02, -3.35913922e-02, -9.91240823e-17,\n",
       "         3.36032062e-02,  6.63822327e-02],\n",
       "       [-6.79307373e-02, -3.31730756e-02, -9.66708068e-17,\n",
       "         3.33010718e-02,  6.74721350e-02],\n",
       "       [-7.28822266e-02, -3.40375696e-02, -9.31058412e-17,\n",
       "         3.41260059e-02,  7.19481262e-02],\n",
       "       [-7.40602173e-02, -3.09889551e-02, -8.36920212e-17,\n",
       "         3.11736682e-02,  7.33920703e-02]])"
      ]
     },
     "execution_count": 276,
     "metadata": {},
     "output_type": "execute_result"
    }
   ],
   "source": [
    "cmz[0] + cmz[1] + cmz[2] + cmz[3]"
   ]
  },
  {
   "cell_type": "code",
   "execution_count": 277,
   "id": "dc1dce81",
   "metadata": {},
   "outputs": [
    {
     "data": {
      "text/plain": [
       "-0.0028289013671915497"
      ]
     },
     "execution_count": 277,
     "metadata": {},
     "output_type": "execute_result"
    }
   ],
   "source": [
    "np.sum(sum(cmz[0] + cmz[1] + cmz[2] + cmz[3]))"
   ]
  },
  {
   "cell_type": "code",
   "execution_count": null,
   "id": "6abd2793",
   "metadata": {},
   "outputs": [],
   "source": []
  },
  {
   "cell_type": "code",
   "execution_count": 270,
   "id": "7691ae11",
   "metadata": {},
   "outputs": [
    {
     "data": {
      "text/plain": [
       "array([[[0.04, 0.04, 0.04, 0.04, 0.04],\n",
       "        [0.02, 0.02, 0.02, 0.02, 0.02],\n",
       "        [0.  , 0.  , 0.  , 0.  , 0.  ],\n",
       "        [0.02, 0.02, 0.02, 0.02, 0.02],\n",
       "        [0.04, 0.04, 0.04, 0.04, 0.04]],\n",
       "\n",
       "       [[0.04, 0.04, 0.04, 0.04, 0.04],\n",
       "        [0.02, 0.02, 0.02, 0.02, 0.02],\n",
       "        [0.  , 0.  , 0.  , 0.  , 0.  ],\n",
       "        [0.02, 0.02, 0.02, 0.02, 0.02],\n",
       "        [0.04, 0.04, 0.04, 0.04, 0.04]],\n",
       "\n",
       "       [[0.04, 0.04, 0.04, 0.04, 0.04],\n",
       "        [0.02, 0.02, 0.02, 0.02, 0.02],\n",
       "        [0.  , 0.  , 0.  , 0.  , 0.  ],\n",
       "        [0.02, 0.02, 0.02, 0.02, 0.02],\n",
       "        [0.04, 0.04, 0.04, 0.04, 0.04]],\n",
       "\n",
       "       [[0.04, 0.04, 0.04, 0.04, 0.04],\n",
       "        [0.02, 0.02, 0.02, 0.02, 0.02],\n",
       "        [0.  , 0.  , 0.  , 0.  , 0.  ],\n",
       "        [0.02, 0.02, 0.02, 0.02, 0.02],\n",
       "        [0.04, 0.04, 0.04, 0.04, 0.04]]])"
      ]
     },
     "execution_count": 270,
     "metadata": {},
     "output_type": "execute_result"
    }
   ],
   "source": [
    "mz = np.array([\n",
    "    abs(z[0] - mid_z),\n",
    "    abs(z[1] - mid_z),\n",
    "    abs(z[2] - mid_z),\n",
    "    abs(z[3] - mid_z),\n",
    "])\n",
    "mz"
   ]
  },
  {
   "cell_type": "code",
   "execution_count": null,
   "id": "2efb906f",
   "metadata": {},
   "outputs": [],
   "source": [
    "+ по часовой"
   ]
  },
  {
   "cell_type": "code",
   "execution_count": null,
   "id": "836a79f4",
   "metadata": {},
   "outputs": [],
   "source": []
  },
  {
   "cell_type": "code",
   "execution_count": null,
   "id": "708a5644",
   "metadata": {},
   "outputs": [],
   "source": []
  },
  {
   "cell_type": "code",
   "execution_count": null,
   "id": "8221be2a",
   "metadata": {},
   "outputs": [],
   "source": []
  },
  {
   "cell_type": "code",
   "execution_count": null,
   "id": "c9b9dce1",
   "metadata": {},
   "outputs": [],
   "source": []
  },
  {
   "cell_type": "code",
   "execution_count": null,
   "id": "de305e8a",
   "metadata": {},
   "outputs": [],
   "source": []
  },
  {
   "cell_type": "code",
   "execution_count": null,
   "id": "eb54a7a0",
   "metadata": {},
   "outputs": [],
   "source": []
  },
  {
   "cell_type": "code",
   "execution_count": null,
   "id": "c0b14e1e",
   "metadata": {},
   "outputs": [],
   "source": []
  },
  {
   "cell_type": "code",
   "execution_count": null,
   "id": "9e38bead",
   "metadata": {},
   "outputs": [],
   "source": []
  },
  {
   "cell_type": "code",
   "execution_count": null,
   "id": "a3120459",
   "metadata": {},
   "outputs": [],
   "source": []
  },
  {
   "cell_type": "code",
   "execution_count": null,
   "id": "5bdfd7af",
   "metadata": {},
   "outputs": [],
   "source": []
  },
  {
   "cell_type": "code",
   "execution_count": null,
   "id": "62f20bea",
   "metadata": {},
   "outputs": [],
   "source": []
  },
  {
   "cell_type": "code",
   "execution_count": null,
   "id": "de75a6c5",
   "metadata": {},
   "outputs": [],
   "source": []
  },
  {
   "cell_type": "code",
   "execution_count": null,
   "id": "b475255e",
   "metadata": {},
   "outputs": [],
   "source": []
  },
  {
   "cell_type": "code",
   "execution_count": null,
   "id": "f8b3925a",
   "metadata": {},
   "outputs": [],
   "source": []
  },
  {
   "cell_type": "code",
   "execution_count": null,
   "id": "ac1efb4d",
   "metadata": {},
   "outputs": [],
   "source": []
  },
  {
   "cell_type": "code",
   "execution_count": 246,
   "id": "202aee9d",
   "metadata": {},
   "outputs": [],
   "source": [
    "sum_x = []\n",
    "sum_y = []\n",
    "qq1 = []\n",
    "qq2 = []\n",
    "\n",
    "for coeff in pr_norm:\n",
    "    coeff = np.reshape(coeff, (count_row, -1))\n",
    "    coeff = np.split(coeff, [count_sensors_on_middle,\n",
    "                             count_sensors_on_middle + count_sensors_on_side,\n",
    "                             2 * count_sensors_on_middle + count_sensors_on_side,\n",
    "                             2 * (count_sensors_on_middle + count_sensors_on_side)\n",
    "                             ], axis=1)\n",
    "    del coeff[4]\n",
    "    faces_x = []\n",
    "    faces_y = []\n",
    "    coeff = coeff*Cmz\n",
    "    for face in range(len(coeff)):\n",
    "        if face in [0,2]:\n",
    "            faces_x.append(np.sum(coeff[face])/(count_sensors_on_model/4))\n",
    "        else:\n",
    "            faces_y.append(np.sum(coeff[face])/(count_sensors_on_model/4))\n",
    "    qq1.append(faces_x[0])\n",
    "    qq2.append(faces_x[1])\n",
    "    \n",
    "    sum_x.append((faces_x[0]-faces_x[1]))\n",
    "    sum_y.append((faces_y[0]-faces_y[1]))\n",
    "    "
   ]
  },
  {
   "cell_type": "code",
   "execution_count": 247,
   "id": "7bfa6afd",
   "metadata": {},
   "outputs": [
    {
     "data": {
      "image/png": "[encoded data removed]",
      "text/plain": [
       "<Figure size 1600x900 with 2 Axes>"
      ]
     },
     "metadata": {},
     "output_type": "display_data"
    }
   ],
   "source": [
    "fig,graph = plt.subplots(1,2,figsize=(16,9))\n",
    "graph[0].plot(list(range(1,32769)),sum_x,label='Cx')\n",
    "graph[1].plot(list(range(1,32769)),sum_y,label='Cy')\n",
    "graph[0].legend()\n",
    "graph[1].legend()\n",
    "graph[0].grid()\n",
    "graph[1].grid()\n",
    "plt.show()"
   ]
  },
  {
   "cell_type": "code",
   "execution_count": 248,
   "id": "0606421a",
   "metadata": {},
   "outputs": [
    {
     "data": {
      "text/plain": [
       "0.02127154055175778"
      ]
     },
     "execution_count": 248,
     "metadata": {},
     "output_type": "execute_result"
    }
   ],
   "source": [
    "sum(sum_x)/32768"
   ]
  },
  {
   "cell_type": "code",
   "execution_count": 249,
   "id": "b0a96af4",
   "metadata": {},
   "outputs": [
    {
     "data": {
      "text/plain": [
       "3.435385742187068e-05"
      ]
     },
     "execution_count": 249,
     "metadata": {},
     "output_type": "execute_result"
    }
   ],
   "source": [
    "sum(sum_y)/32768"
   ]
  },
  {
   "cell_type": "code",
   "execution_count": 54,
   "id": "d265229a",
   "metadata": {},
   "outputs": [
    {
     "data": {
      "text/plain": [
       "100"
      ]
     },
     "execution_count": 54,
     "metadata": {},
     "output_type": "execute_result"
    }
   ],
   "source": [
    "count_sensors_on_model"
   ]
  },
  {
   "cell_type": "code",
   "execution_count": null,
   "id": "b1ec9333",
   "metadata": {},
   "outputs": [],
   "source": []
  },
  {
   "cell_type": "code",
   "execution_count": null,
   "id": "a9cf50a0",
   "metadata": {},
   "outputs": [],
   "source": []
  }
 ],
 "metadata": {
  "kernelspec": {
   "display_name": "Python 3 (ipykernel)",
   "language": "python",
   "name": "python3"
  },
  "language_info": {
   "codemirror_mode": {
    "name": "ipython",
    "version": 3
   },
   "file_extension": ".py",
   "mimetype": "text/x-python",
   "name": "python",
   "nbconvert_exporter": "python",
   "pygments_lexer": "ipython3",
   "version": "3.10.6"
  }
 },
 "nbformat": 4,
 "nbformat_minor": 5
}
